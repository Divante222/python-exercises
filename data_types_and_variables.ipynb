{
 "cells": [
  {
   "cell_type": "markdown",
   "id": "c116ed2f",
   "metadata": {},
   "source": [
    "1. Identify the data type of the following values:\n",
    "\n",
    "\n",
    "99.9 float\n",
    "\n",
    "\"False\" string\n",
    "\n",
    "False boolean\n",
    "\n",
    "'0' string\n",
    "\n",
    "0 int\n",
    "\n",
    "True boolean\n",
    "\n",
    "'True' string\n",
    "\n",
    "[{}] list\n",
    "\n",
    "{'a': []} dictionary"
   ]
  },
  {
   "cell_type": "markdown",
   "id": "169eafc3",
   "metadata": {},
   "source": [
    "2. What data type would best represent the following?\n",
    "\n",
    "A term or phrase typed into a search box\n",
    "-- string\n",
    "\n",
    "Whether or not a user is logged in\n",
    "-- boolean\n",
    "\n",
    "\n",
    "A discount amount to apply to a user's shopping cart\n",
    "-- float or int\n",
    "\n",
    "\n",
    "Whether or not a coupon code is valid\n",
    "-- boolean\n",
    "\n",
    "\n",
    "An email address typed into a registration form\n",
    "-- string\n",
    "\n",
    "\n",
    "\n",
    "The price of a product\n",
    "-- float\n",
    "\n",
    "\n",
    "\n",
    "The email addresses collected from a registration form\n",
    "-- string\n",
    "\n",
    "\n",
    "Information about applicants to Codeup's data science program\n",
    "-- string\n",
    "\n",
    "\n"
   ]
  },
  {
   "cell_type": "markdown",
   "id": "65621368",
   "metadata": {},
   "source": [
    "3. For each of the following code blocks:\n",
    "\n",
    "Read the expression and predict the evaluated results\n",
    "\n",
    "Execute the expression in a Python REPL.\n",
    "\n",
    "\n",
    "'1' + 2 \n",
    "-- error\n",
    "\n",
    "6 % 4\n",
    "-- 2\n",
    "\n",
    "type(6 % 4)\n",
    "-- int\n",
    "\n",
    "type(type(6 % 4))\n",
    "-- type\n",
    "\n",
    "'3 + 4 is ' + 3 + 4\n",
    "--  can only concatenate str (not \"int\") to str\n",
    "\n",
    "0 < 0\n",
    "-- False\n",
    "\n",
    "'False' == False\n",
    "-- False\n",
    "\n",
    "True == 'True'\n",
    "-- False\n",
    "\n",
    "5 >= -5\n",
    "-- True\n",
    "\n",
    "True or \"42\"\n",
    "-- True\n",
    "\n",
    "6 % 5\n",
    "-- 1\n",
    "\n",
    "5 < 4 and 1 == 1\n",
    "-- False\n",
    "\n",
    "'codeup' == 'codeup' and 'codeup' == 'Codeup'\n",
    "--False\n",
    "\n",
    "4 >= 0 and 1 !== '1'\n",
    "-- error\n",
    "\n",
    "6 % 3 == 0\n",
    "-- True\n",
    "\n",
    "5 % 2 != 0\n",
    "-- True\n",
    "\n",
    "[1] + 2\n",
    "-- TypeError: can only concatenate list (not \"int\") to list\n",
    "\n",
    "[1] + [2]\n",
    "-- [1,2]\n",
    "\n",
    "[1] * 2\n",
    "-- [1, 1]\n",
    "\n",
    "[1] * [2]\n",
    "-- TypeError: can't multiply sequence by non-int of type 'list'\n",
    "\n",
    "[] + [] == []\n",
    "-- True\n",
    "\n",
    "{} + {}\n",
    "-- TypeError: unsupported operand type(s) for +: 'dict' and 'dict'\n"
   ]
  },
  {
   "cell_type": "markdown",
   "id": "6cbd4e10",
   "metadata": {},
   "source": [
    "4. Create a Python script file named data_types_and_variables.py. \n",
    "Inside the script, write Python code to describe the following scenarios. \n",
    "You will need to create and assign variables and use operators."
   ]
  },
  {
   "cell_type": "code",
   "execution_count": 22,
   "id": "2a6d7962",
   "metadata": {},
   "outputs": [],
   "source": [
    "## 5. You have rented some movies for your kids:\n",
    "\n",
    "##The Little Mermaid for 3 days\n",
    "##Brother Bear for 5 days\n",
    "##Hercules for 1 day\n",
    "\n",
    "the_scenarios = {\"The Little Mermaid\": 3, \"Brother Bear\":5,\"Hercules\":1}\n",
    "\n"
   ]
  },
  {
   "cell_type": "code",
   "execution_count": 31,
   "id": "1cf527b9",
   "metadata": {},
   "outputs": [
    {
     "name": "stdout",
     "output_type": "stream",
     "text": [
      "The Little Mermaid  would cost  9  Dollars total for  3  Days\n",
      "Brother Bear  would cost  15  Dollars total for  5  Days\n",
      "Hercules  would cost  3  Dollars total for  1  Days\n"
     ]
    }
   ],
   "source": [
    "## If the daily fee to rent a movie is 3 dollars, how much will you have to pay?\n",
    "for x in the_scenarios.keys():\n",
    "    print(x , ' would cost ' , the_scenarios[x] * 3 , ' Dollars total for ', the_scenarios[x], ' Days')"
   ]
  },
  {
   "cell_type": "code",
   "execution_count": 44,
   "id": "599352a5",
   "metadata": {},
   "outputs": [
    {
     "name": "stdout",
     "output_type": "stream",
     "text": [
      "Google would pay you 2400 Dollars total for working 6 hours\n",
      "Amazon would pay you 1520 Dollars total for working 4 hours\n",
      "Facebook would pay you 3500 Dollars total for working 10 hours\n",
      "I will recieve 7420\n"
     ]
    }
   ],
   "source": [
    "## 6. Suppose you're working as a contractor for 3 companies: Google, Amazon and Facebook.\n",
    "\n",
    "# They pay you the following hourly rates:\n",
    "\n",
    "# Google: 400 dollars\n",
    "# Amazon: 380 dollars\n",
    "# Facebook: 350 dollars\n",
    "\n",
    "# This week you worked: 10 hours for Facebook, 6 hours for Google and 4 hours for Amazon.\n",
    "the_companies_pay_rate = {\"Google\": 400, \"Amazon\":380,\"Facebook\":350}\n",
    "hours_worked = {\"Google\": 6, \"Amazon\":4,\"Facebook\":10}\n",
    "total = 0\n",
    "for x in the_companies_pay_rate.keys():\n",
    "    total = total + the_companies_pay_rate[x] * hours_worked[x]\n",
    "    print(x , 'would pay you' , the_companies_pay_rate[x] * hours_worked[x] , 'Dollars total for working',\n",
    "          hours_worked[x], 'hours')\n",
    "            \n",
    "\n",
    "\n",
    "# How much will you receive in payment for this week?\n",
    "print('I will recieve', total)\n"
   ]
  },
  {
   "cell_type": "code",
   "execution_count": 45,
   "id": "fa462254",
   "metadata": {},
   "outputs": [],
   "source": [
    "# 7. A student can be enrolled to a class only if the class is not \n",
    "# full and the class schedule does not conflict with her current schedule.\n",
    "\n",
    "student_enrolled_in_class = True\n",
    "is_class_full = False\n",
    "schedule_conflict = False\n"
   ]
  },
  {
   "cell_type": "code",
   "execution_count": 47,
   "id": "83c82361",
   "metadata": {},
   "outputs": [],
   "source": [
    "# 8. A product offer can be applied only if people buys more than 2 items, \n",
    "# and the offer has not expired. Premium members do not need to buy a specific amount of products.\n",
    "\n",
    "people = 3\n",
    "has_offer_expired = True\n",
    "is_premium = True\n"
   ]
  },
  {
   "cell_type": "code",
   "execution_count": 48,
   "id": "59dd9d2e",
   "metadata": {},
   "outputs": [],
   "source": [
    "# 9. Continue working in the data_types_and_variables.py file. \n",
    "# Use the following code to follow the instructions below:\n",
    "\n",
    "\n",
    "\n",
    "username = 'codeup'\n",
    "password = 'notastrongpassword'\n",
    "\n",
    "# Create a variable that holds a boolean value for each of the following conditions:\n",
    "\n",
    "# The password must be at least 5 characters\n",
    "password_at_least_five = True\n",
    "\n",
    "# The username must be no more than 20 characters\n",
    "top_length_20_or_less = True\n",
    "\n",
    "# The password must not be the same as the username\n",
    "is_user_and_pass_same = False\n",
    "\n",
    "# Bonus Neither the username or password can start or end with whitespace\n",
    "whitespace_start_or_end = False"
   ]
  },
  {
   "cell_type": "code",
   "execution_count": null,
   "id": "4aa07288",
   "metadata": {},
   "outputs": [],
   "source": []
  }
 ],
 "metadata": {
  "kernelspec": {
   "display_name": "Python 3 (ipykernel)",
   "language": "python",
   "name": "python3"
  },
  "language_info": {
   "codemirror_mode": {
    "name": "ipython",
    "version": 3
   },
   "file_extension": ".py",
   "mimetype": "text/x-python",
   "name": "python",
   "nbconvert_exporter": "python",
   "pygments_lexer": "ipython3",
   "version": "3.9.13"
  }
 },
 "nbformat": 4,
 "nbformat_minor": 5
}
