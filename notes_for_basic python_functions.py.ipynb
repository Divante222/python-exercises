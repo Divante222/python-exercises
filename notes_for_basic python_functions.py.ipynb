{
 "cells": [
  {
   "cell_type": "markdown",
   "id": "d1e3585a",
   "metadata": {},
   "source": [
    "this is a markdown text cell\n",
    "\n"
   ]
  },
  {
   "cell_type": "markdown",
   "id": "1db6f07a",
   "metadata": {},
   "source": [
    "### planning\n",
    "\n"
   ]
  },
  {
   "cell_type": "markdown",
   "id": "c32f468b",
   "metadata": {},
   "source": [
    "# planning\n"
   ]
  },
  {
   "cell_type": "markdown",
   "id": "d91ea2d8",
   "metadata": {},
   "source": [
    "click m on the cell to create a markdown cell"
   ]
  },
  {
   "cell_type": "markdown",
   "id": "91169466",
   "metadata": {},
   "source": [
    "click y on the cell it goes back to code"
   ]
  },
  {
   "cell_type": "code",
   "execution_count": 6,
   "id": "fd7e1c62",
   "metadata": {},
   "outputs": [
    {
     "data": {
      "text/plain": [
       "'hello divante parness'"
      ]
     },
     "execution_count": 6,
     "metadata": {},
     "output_type": "execute_result"
    }
   ],
   "source": [
    "## string formatting\n",
    "\n",
    "name = 'divante'\n",
    "\n",
    "'hello %s' %(name)\n",
    "\n",
    "'hello %s %s' %(name, 'parness')\n"
   ]
  },
  {
   "cell_type": "code",
   "execution_count": 8,
   "id": "496917a0",
   "metadata": {},
   "outputs": [
    {
     "data": {
      "text/plain": [
       "'hello divante parness'"
      ]
     },
     "execution_count": 8,
     "metadata": {},
     "output_type": "execute_result"
    }
   ],
   "source": [
    "## another way to format\n",
    "'hello {} {}'.format(name, 'parness')"
   ]
  },
  {
   "cell_type": "code",
   "execution_count": 12,
   "id": "3f83d4e6",
   "metadata": {},
   "outputs": [
    {
     "data": {
      "text/plain": [
       "'hello divante , parness, 1'"
      ]
     },
     "execution_count": 12,
     "metadata": {},
     "output_type": "execute_result"
    }
   ],
   "source": [
    "## another way to format\n",
    "## can add mathmatical operations inside the curly braces\n",
    "f\"hello {name} , {'parness'}, {0+1}\""
   ]
  },
  {
   "cell_type": "code",
   "execution_count": 14,
   "id": "3ffc2323",
   "metadata": {},
   "outputs": [
    {
     "data": {
      "text/plain": [
       "'hello'"
      ]
     },
     "execution_count": 14,
     "metadata": {},
     "output_type": "execute_result"
    }
   ],
   "source": [
    "'heLLo'.lower()\n"
   ]
  },
  {
   "cell_type": "code",
   "execution_count": 15,
   "id": "4bdc3dd7",
   "metadata": {},
   "outputs": [
    {
     "data": {
      "text/plain": [
       "'hello'"
      ]
     },
     "execution_count": 15,
     "metadata": {},
     "output_type": "execute_result"
    }
   ],
   "source": [
    "str.lower('HELLO')"
   ]
  },
  {
   "cell_type": "code",
   "execution_count": 16,
   "id": "0e54e872",
   "metadata": {},
   "outputs": [
    {
     "data": {
      "text/plain": [
       "'HELLO'"
      ]
     },
     "execution_count": 16,
     "metadata": {},
     "output_type": "execute_result"
    }
   ],
   "source": [
    "'hello'.upper()\n"
   ]
  },
  {
   "cell_type": "code",
   "execution_count": 17,
   "id": "c2bf22e5",
   "metadata": {},
   "outputs": [
    {
     "data": {
      "text/plain": [
       "'hello'"
      ]
     },
     "execution_count": 17,
     "metadata": {},
     "output_type": "execute_result"
    }
   ],
   "source": [
    "'HeLLo'.upper().lower()"
   ]
  },
  {
   "cell_type": "code",
   "execution_count": 18,
   "id": "cc733f7d",
   "metadata": {},
   "outputs": [
    {
     "data": {
      "text/plain": [
       "'hello'"
      ]
     },
     "execution_count": 18,
     "metadata": {},
     "output_type": "execute_result"
    }
   ],
   "source": [
    "##used for cleaning data\n",
    "'     hello   '.strip()"
   ]
  },
  {
   "cell_type": "code",
   "execution_count": 27,
   "id": "6e7b03f8",
   "metadata": {},
   "outputs": [
    {
     "data": {
      "text/plain": [
       "'he'"
      ]
     },
     "execution_count": 27,
     "metadata": {},
     "output_type": "execute_result"
    }
   ],
   "source": [
    "\" helllo.   \".strip(' lo.')"
   ]
  },
  {
   "cell_type": "code",
   "execution_count": 28,
   "id": "bcd4c67a",
   "metadata": {},
   "outputs": [
    {
     "data": {
      "text/plain": [
       "True"
      ]
     },
     "execution_count": 28,
     "metadata": {},
     "output_type": "execute_result"
    }
   ],
   "source": [
    "##checks to see if a string is a digit\n",
    "'123'.isdigit()"
   ]
  },
  {
   "cell_type": "code",
   "execution_count": 29,
   "id": "72e5f812",
   "metadata": {},
   "outputs": [
    {
     "data": {
      "text/plain": [
       "False"
      ]
     },
     "execution_count": 29,
     "metadata": {},
     "output_type": "execute_result"
    }
   ],
   "source": [
    "'a123'.isdigit()"
   ]
  },
  {
   "cell_type": "code",
   "execution_count": 32,
   "id": "10bce264",
   "metadata": {},
   "outputs": [
    {
     "data": {
      "text/plain": [
       "['hello', 'pagel', 'divante', 'was', 'here']"
      ]
     },
     "execution_count": 32,
     "metadata": {},
     "output_type": "execute_result"
    }
   ],
   "source": [
    "## you can specify where you want to split things in the parameters\n",
    "'hello pagel divante was here'.split()"
   ]
  },
  {
   "cell_type": "code",
   "execution_count": 34,
   "id": "9b9e3f53",
   "metadata": {},
   "outputs": [
    {
     "data": {
      "text/plain": [
       "['hello', ' pagel']"
      ]
     },
     "execution_count": 34,
     "metadata": {},
     "output_type": "execute_result"
    }
   ],
   "source": [
    "'hello, pagel'.split(',')"
   ]
  },
  {
   "cell_type": "code",
   "execution_count": 35,
   "id": "8fd65a07",
   "metadata": {},
   "outputs": [
    {
     "data": {
      "text/plain": [
       "['a', 'a', '', 'a', 'a', 'a', 'a', 'a']"
      ]
     },
     "execution_count": 35,
     "metadata": {},
     "output_type": "execute_result"
    }
   ],
   "source": [
    "'ababbababababa'.split('b')"
   ]
  },
  {
   "cell_type": "code",
   "execution_count": 37,
   "id": "35526c9d",
   "metadata": {},
   "outputs": [
    {
     "data": {
      "text/plain": [
       "'heo'"
      ]
     },
     "execution_count": 37,
     "metadata": {},
     "output_type": "execute_result"
    }
   ],
   "source": [
    "##replace,, the first argument is the thing you want to replace and second is the thing you will replace it with\n",
    "'hello'.replace('l','')"
   ]
  },
  {
   "cell_type": "code",
   "execution_count": 38,
   "id": "0efaf1f8",
   "metadata": {},
   "outputs": [
    {
     "data": {
      "text/plain": [
       "'hello parness'"
      ]
     },
     "execution_count": 38,
     "metadata": {},
     "output_type": "execute_result"
    }
   ],
   "source": [
    "'hello divante'.replace('divante', 'parness')"
   ]
  },
  {
   "cell_type": "code",
   "execution_count": 40,
   "id": "2fa9711e",
   "metadata": {},
   "outputs": [],
   "source": [
    "greeting = 'hello pagel'.split()"
   ]
  },
  {
   "cell_type": "code",
   "execution_count": 41,
   "id": "768922f5",
   "metadata": {},
   "outputs": [
    {
     "name": "stdout",
     "output_type": "stream",
     "text": [
      "['hello', 'pagel']\n"
     ]
    }
   ],
   "source": [
    "print(greeting)"
   ]
  },
  {
   "cell_type": "code",
   "execution_count": 42,
   "id": "cb95f840",
   "metadata": {},
   "outputs": [
    {
     "data": {
      "text/plain": [
       "'hello pagel'"
      ]
     },
     "execution_count": 42,
     "metadata": {},
     "output_type": "execute_result"
    }
   ],
   "source": [
    "##joining things in list format\n",
    "\n",
    "' '.join(greeting)"
   ]
  },
  {
   "cell_type": "code",
   "execution_count": 45,
   "id": "5f7d7834",
   "metadata": {},
   "outputs": [
    {
     "data": {
      "text/plain": [
       "'hello/pagel'"
      ]
     },
     "execution_count": 45,
     "metadata": {},
     "output_type": "execute_result"
    }
   ],
   "source": [
    "##can throw a variable containing a str in from the of join str.join()\n",
    "##whatever is in the parenthesis will be the joiner\n",
    "'/'.join(['hello','pagel'])"
   ]
  },
  {
   "cell_type": "code",
   "execution_count": 46,
   "id": "1dd131e5",
   "metadata": {},
   "outputs": [],
   "source": [
    "list_of_nums = [1,2,3,4,5,6,7,8,9,10]\n"
   ]
  },
  {
   "cell_type": "code",
   "execution_count": 47,
   "id": "ad9f519c",
   "metadata": {},
   "outputs": [
    {
     "data": {
      "text/plain": [
       "[1, 2, 3, 4, 5, 6, 7, 8, 9, 10]"
      ]
     },
     "execution_count": 47,
     "metadata": {},
     "output_type": "execute_result"
    }
   ],
   "source": [
    "list_of_nums\n",
    "\n"
   ]
  },
  {
   "cell_type": "code",
   "execution_count": 54,
   "id": "4bdd0c43",
   "metadata": {},
   "outputs": [],
   "source": [
    "##changing a list of things to a list of strings\n",
    "the_list = list(map(str,[True,2,3]))\n"
   ]
  },
  {
   "cell_type": "code",
   "execution_count": 56,
   "id": "b3ef4a52",
   "metadata": {},
   "outputs": [
    {
     "data": {
      "text/plain": [
       "['True', '2', '3']"
      ]
     },
     "execution_count": 56,
     "metadata": {},
     "output_type": "execute_result"
    }
   ],
   "source": [
    "the_list"
   ]
  },
  {
   "cell_type": "code",
   "execution_count": null,
   "id": "7a328473",
   "metadata": {},
   "outputs": [],
   "source": []
  }
 ],
 "metadata": {
  "kernelspec": {
   "display_name": "Python 3 (ipykernel)",
   "language": "python",
   "name": "python3"
  },
  "language_info": {
   "codemirror_mode": {
    "name": "ipython",
    "version": 3
   },
   "file_extension": ".py",
   "mimetype": "text/x-python",
   "name": "python",
   "nbconvert_exporter": "python",
   "pygments_lexer": "ipython3",
   "version": "3.9.13"
  }
 },
 "nbformat": 4,
 "nbformat_minor": 5
}
