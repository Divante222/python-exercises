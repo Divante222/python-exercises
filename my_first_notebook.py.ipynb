{
 "cells": [
  {
   "cell_type": "code",
   "execution_count": 3,
   "id": "1854b6f9",
   "metadata": {},
   "outputs": [],
   "source": [
    "greetings = 'hello world'"
   ]
  },
  {
   "cell_type": "code",
   "execution_count": 4,
   "id": "54aad349",
   "metadata": {},
   "outputs": [
    {
     "name": "stdout",
     "output_type": "stream",
     "text": [
      "hello world\n"
     ]
    }
   ],
   "source": [
    "print(greetings)"
   ]
  },
  {
   "cell_type": "code",
   "execution_count": 1,
   "id": "df123d4f",
   "metadata": {},
   "outputs": [],
   "source": [
    "## use dd to delete cells\n",
    "## use shift enter to run cells\n",
    "## ctr+ s to save"
   ]
  }
 ],
 "metadata": {
  "kernelspec": {
   "display_name": "Python 3 (ipykernel)",
   "language": "python",
   "name": "python3"
  },
  "language_info": {
   "codemirror_mode": {
    "name": "ipython",
    "version": 3
   },
   "file_extension": ".py",
   "mimetype": "text/x-python",
   "name": "python",
   "nbconvert_exporter": "python",
   "pygments_lexer": "ipython3",
   "version": "3.9.13"
  }
 },
 "nbformat": 4,
 "nbformat_minor": 5
}
