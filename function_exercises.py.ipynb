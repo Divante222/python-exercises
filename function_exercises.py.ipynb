{
 "cells": [
  {
   "cell_type": "code",
   "execution_count": 6,
   "id": "6b990c4f",
   "metadata": {},
   "outputs": [
    {
     "data": {
      "text/plain": [
       "False"
      ]
     },
     "execution_count": 6,
     "metadata": {},
     "output_type": "execute_result"
    }
   ],
   "source": [
    "# Define a function named is_two. It should accept one \n",
    "# input and return True if the passed input is either \n",
    "# the number or the string 2, False otherwise.\n",
    "\n",
    "def is_two(a):\n",
    "    if a == 2 or a == '2':\n",
    "        return True\n",
    "    return False\n",
    "\n",
    "is_two('3')"
   ]
  },
  {
   "cell_type": "code",
   "execution_count": 4,
   "id": "0f76a115",
   "metadata": {},
   "outputs": [
    {
     "data": {
      "text/plain": [
       "True"
      ]
     },
     "execution_count": 4,
     "metadata": {},
     "output_type": "execute_result"
    }
   ],
   "source": [
    "# Define a function named is_vowel. \n",
    "# It should return True if the passed string \n",
    "# is a vowel, False otherwise.\n",
    "\n",
    "def is_vowel(a):\n",
    "    vowels = ['a','e','i','o','u']\n",
    "    if a.lower() in vowels:\n",
    "        return True\n",
    "    return False\n",
    "\n",
    "\n",
    "is_vowel('e')"
   ]
  },
  {
   "cell_type": "code",
   "execution_count": null,
   "id": "2ec68e0a",
   "metadata": {},
   "outputs": [],
   "source": [
    "#     if a.lower() in 'aeioiuAEIOU':"
   ]
  },
  {
   "cell_type": "code",
   "execution_count": 11,
   "id": "8fe07dfc",
   "metadata": {},
   "outputs": [
    {
     "name": "stdout",
     "output_type": "stream",
     "text": [
      "False\n"
     ]
    }
   ],
   "source": [
    "# Define a function named is_consonant. \n",
    "# It should return True if the passed string is a consonant, \n",
    "# False otherwise. Use your is_vowel function to accomplish this.\n",
    "def is_consonant2(a):\n",
    "    if is_vowel(a):\n",
    "        return False \n",
    "    True\n",
    "    \n",
    "print(is_consonant2('a'))\n",
    "    \n",
    "def is_consonant(a):\n",
    "    vowels = ['a','e','i','o','u']\n",
    "    if a.lower() not in vowels:\n",
    "        return True\n",
    "    return False\n",
    "\n",
    "# is_consonant('e')"
   ]
  },
  {
   "cell_type": "code",
   "execution_count": 24,
   "id": "8bfd3e9f",
   "metadata": {},
   "outputs": [
    {
     "name": "stdout",
     "output_type": "stream",
     "text": [
      "eating\n"
     ]
    },
    {
     "data": {
      "text/plain": [
       "'eating'"
      ]
     },
     "execution_count": 24,
     "metadata": {},
     "output_type": "execute_result"
    }
   ],
   "source": [
    "# Define a function that accepts a string that is a word. \n",
    "# The function should capitalize the first letter of the word \n",
    "# if the word starts with a consonant.\n",
    "\n",
    "def the_funct(word):\n",
    "    vowels = ['a','e','i','o','u']\n",
    "    print(word)\n",
    "    if word[0].lower() not in vowels:\n",
    "        return word.capitalize()\n",
    "    return word\n",
    "    \n",
    "the_funct('eating')  "
   ]
  },
  {
   "cell_type": "code",
   "execution_count": 26,
   "id": "f34c42b6",
   "metadata": {},
   "outputs": [
    {
     "data": {
      "text/plain": [
       "11.0"
      ]
     },
     "execution_count": 26,
     "metadata": {},
     "output_type": "execute_result"
    }
   ],
   "source": [
    "# Define a function named calculate_tip. \n",
    "# It should accept a tip percentage (a number between 0 and 1) and the bill total, \n",
    "# and return the amount to tip.\n",
    "\n",
    "def calculate_tip(tip_percent, bill_total):\n",
    "    return (tip_percent * bill_total) + bill_total\n",
    "\n",
    "calculate_tip(.1, 10)"
   ]
  },
  {
   "cell_type": "code",
   "execution_count": 28,
   "id": "dff93e4b",
   "metadata": {},
   "outputs": [
    {
     "data": {
      "text/plain": [
       "9.0"
      ]
     },
     "execution_count": 28,
     "metadata": {},
     "output_type": "execute_result"
    }
   ],
   "source": [
    "# Define a function named apply_discount. \n",
    "# It should accept a original price, \n",
    "# and a discount percentage, and return the price after the discount is applied.\n",
    "\n",
    "def apply_discount(orig_price, disc_percent):\n",
    "    return orig_price - (orig_price * disc_percent)\n",
    "\n",
    "apply_discount(10, .1)\n",
    "    "
   ]
  },
  {
   "cell_type": "code",
   "execution_count": 38,
   "id": "a1139fd6",
   "metadata": {},
   "outputs": [
    {
     "name": "stdout",
     "output_type": "stream",
     "text": [
      "1232345\n"
     ]
    }
   ],
   "source": [
    "# Define a function named handle_commas. \n",
    "# It should accept a string that is a number that contains commas \n",
    "# in it as input, and return a number as output.\n",
    "\n",
    "def handle_commas(num_str):\n",
    "    num_str = num_str.split(',')\n",
    "    new_str = ''\n",
    "    for i in num_str:\n",
    "        if i != ' ':\n",
    "            new_str += i\n",
    "    return int(new_str)\n",
    "\n",
    "the_str = handle_commas('12,323,45,')\n",
    "print(the_str)\n",
    "    "
   ]
  },
  {
   "cell_type": "code",
   "execution_count": 53,
   "id": "60009e17",
   "metadata": {},
   "outputs": [
    {
     "name": "stdout",
     "output_type": "stream",
     "text": [
      "A\n"
     ]
    }
   ],
   "source": [
    "# Define a function named get_letter_grade. \n",
    "# It should accept a number and return the \n",
    "# letter grade associated with that number (A-F).\n",
    "\n",
    "def get_letter_grade(number):\n",
    "    if number < 101 and number > 89:\n",
    "        return 'A'\n",
    "    elif number <= 89 and number >= 80:\n",
    "        return 'B'\n",
    "    elif number <= 79 and number >= 70:\n",
    "        return 'C'\n",
    "    elif number <= 69 and number >= 60:\n",
    "        return 'D'\n",
    "    elif number <= 59 and number >= 0:\n",
    "        return 'F'\n",
    "    return 'You did not return a valid grade'\n",
    "print(get_letter_grade(100))\n",
    "    \n",
    "    "
   ]
  },
  {
   "cell_type": "code",
   "execution_count": 56,
   "id": "8eb24b94",
   "metadata": {},
   "outputs": [
    {
     "data": {
      "text/plain": [
       "'ppl'"
      ]
     },
     "execution_count": 56,
     "metadata": {},
     "output_type": "execute_result"
    }
   ],
   "source": [
    "# Define a function named remove_vowels that accepts \n",
    "# a string and returns a string with all the vowels removed.\n",
    "\n",
    "def remove_vowels(the_str):\n",
    "    new_str = ''\n",
    "    vowels = ['a','e','i','o','u']\n",
    "    for i in the_str:\n",
    "        if i not in vowels:\n",
    "            new_str = new_str + i\n",
    "            \n",
    "    return new_str\n",
    "\n",
    "remove_vowels('apple')\n",
    "    "
   ]
  },
  {
   "cell_type": "code",
   "execution_count": 19,
   "id": "1e5449c2",
   "metadata": {},
   "outputs": [
    {
     "name": "stdout",
     "output_type": "stream",
     "text": [
      "divante_walter_parness\n"
     ]
    }
   ],
   "source": [
    "# Define a function named normalize_name. \n",
    "# It should accept a string and return a valid python identifier, that is:\n",
    "\n",
    "# anything that is not a valid python identifier should be removed\n",
    "\n",
    "# leading and trailing whitespace should be removed\n",
    "\n",
    "# everything should be lowercase\n",
    "\n",
    "# spaces should be replaced with underscores\n",
    "\n",
    "# for example:\n",
    "    \n",
    "# Name will become name\n",
    "\n",
    "# First Name will become first_name\n",
    "\n",
    "# % Completed will become completed\n",
    "\n",
    "def normalize_name(the_str):\n",
    "    alphabet = ['a','b','c','d','e','f','g','h','i','j','k','l','m','n','o','p','q','r','s','t',\n",
    "               'u','v','w','x','y','z', ' ', '_']\n",
    "    alphabet_x = 'abcdefghijklmnopqrstuvwxyz _'\n",
    "    new_str = ''\n",
    "    \n",
    "    for i in the_str:\n",
    "        if i.lower() in alphabet:\n",
    "            new_str = new_str + i\n",
    "            \n",
    "    new_str = new_str.lower()\n",
    "    new_str = new_str.lstrip()\n",
    "    new_str = new_str.rstrip()\n",
    "    new_str = new_str.replace(' ', '_')\n",
    "    \n",
    "    return new_str\n",
    "    \n",
    "print(normalize_name('%     dIvante walter parness   %'))\n"
   ]
  },
  {
   "cell_type": "code",
   "execution_count": 101,
   "id": "5e8d78d2",
   "metadata": {},
   "outputs": [
    {
     "data": {
      "text/plain": [
       "'completed'"
      ]
     },
     "execution_count": 101,
     "metadata": {},
     "output_type": "execute_result"
    }
   ],
   "source": [
    "normalize_name('% Completed')"
   ]
  },
  {
   "cell_type": "code",
   "execution_count": 73,
   "id": "4a9e1a50",
   "metadata": {},
   "outputs": [
    {
     "name": "stdout",
     "output_type": "stream",
     "text": [
      "[1, 3, 6, 10]\n",
      "[1, 2, 3]\n"
     ]
    }
   ],
   "source": [
    "# Write a function named cumulative_sum that accepts a list of numbers \n",
    "# and returns a list that is the cumulative sum of the numbers in the list.\n",
    "\n",
    "# cumulative_sum([1, 1, 1]) returns [1, 2, 3]\n",
    "\n",
    "# cumulative_sum([1, 2, 3, 4]) returns [1, 3, 6, 10]\n",
    "\n",
    "def cumulative_sum(list_of_numbers):\n",
    "    total = 0\n",
    "    new_list = []\n",
    "    for i in list_of_numbers:\n",
    "        \n",
    "        total = total + i\n",
    "        new_list.append(total)\n",
    "    return new_list\n",
    "        \n",
    "    \n",
    "print(cumulative_sum([1, 2, 3, 4]))\n",
    "print(cumulative_sum([1, 1, 1]))\n",
    "    "
   ]
  },
  {
   "cell_type": "code",
   "execution_count": 143,
   "id": "5e146ac8",
   "metadata": {},
   "outputs": [
    {
     "name": "stdout",
     "output_type": "stream",
     "text": [
      "10:45\n"
     ]
    }
   ],
   "source": [
    "# Create a function named twelveto24. function_exercises.py\n",
    "# It should accept a string in the format 10:45am or \n",
    "# 4:30pm and return a string that is the representation \n",
    "# of the time in a 24-hour format. \n",
    "\n",
    "def twelveto24(the_str):\n",
    "    str_to_return = '0'\n",
    "    \n",
    "    str_to_return_condensed = ''\n",
    "    \n",
    "    last_two_letters = the_str[len(the_str):len(the_str) - 3: -1]\n",
    "    last_two_letters = last_two_letters[1:] + last_two_letters[0:1]\n",
    "    \n",
    "    \n",
    "    if last_two_letters.lower() == 'am':\n",
    "        \n",
    "        if len(the_str[:len(the_str) - 2]) == 5:\n",
    "            \n",
    "            str_to_return = the_str[:len(the_str) - 2]\n",
    "            \n",
    "            for i in str_to_return:\n",
    "                str_to_return_condensed = str_to_return_condensed + i\n",
    "            \n",
    "            return str_to_return_condensed\n",
    "        \n",
    "        else:\n",
    "            str_to_return = (str_to_return + the_str[:len(the_str) - 2]).split(':')\n",
    "            for i in str_to_return:\n",
    "                str_to_return_condensed = str_to_return_condensed + i\n",
    "            \n",
    "            return str_to_return_condensed\n",
    "        \n",
    "    if last_two_letters == 'pm':\n",
    "        first_two_numbers = str(int(the_str[:2]) + 12)\n",
    "        str_to_return_for_pm = first_two_numbers + the_str[2:] \n",
    "        \n",
    "        \n",
    "        str_to_return_for_pm = str_to_return_for_pm.replace('pm', '')\n",
    "        \n",
    "        return str_to_return_for_pm\n",
    "    \n",
    "\n",
    "print(twelveto24('10:45am'))"
   ]
  },
  {
   "cell_type": "code",
   "execution_count": 2,
   "id": "4792818d",
   "metadata": {},
   "outputs": [
    {
     "name": "stdout",
     "output_type": "stream",
     "text": [
      "00:45am\n"
     ]
    }
   ],
   "source": [
    "# Bonus write a function that does the opposite.\n",
    "def totwelve(the_str):\n",
    "    \n",
    "    first_two_numbers = int(the_str[:2])\n",
    "    if first_two_numbers > 12:\n",
    "        first_two_numbers = str(first_two_numbers - 12)\n",
    "        first_two_numbers = first_two_numbers + the_str[2:] + 'pm'\n",
    "        return first_two_numbers\n",
    "    \n",
    "    elif first_two_numbers <= 12:\n",
    "        first_two_numbers = str(first_two_numbers - 12)\n",
    "        if first_two_numbers == '0':\n",
    "            first_two_numbers = first_two_numbers + '0'\n",
    "            \n",
    "        first_two_numbers = first_two_numbers + the_str[2:] + 'am'\n",
    "        return first_two_numbers\n",
    "\n",
    "        \n",
    "\n",
    "print(totwelve('12:45'))"
   ]
  },
  {
   "cell_type": "code",
   "execution_count": null,
   "id": "709cbcaf",
   "metadata": {},
   "outputs": [],
   "source": []
  }
 ],
 "metadata": {
  "kernelspec": {
   "display_name": "Python 3 (ipykernel)",
   "language": "python",
   "name": "python3"
  },
  "language_info": {
   "codemirror_mode": {
    "name": "ipython",
    "version": 3
   },
   "file_extension": ".py",
   "mimetype": "text/x-python",
   "name": "python",
   "nbconvert_exporter": "python",
   "pygments_lexer": "ipython3",
   "version": "3.9.13"
  }
 },
 "nbformat": 4,
 "nbformat_minor": 5
}
