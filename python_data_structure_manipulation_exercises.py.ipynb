{
 "cells": [
  {
   "cell_type": "code",
   "execution_count": null,
   "id": "db628332",
   "metadata": {},
   "outputs": [],
   "source": [
    "# 20 Python Data Structure Manipulation Exercises\n",
    "\n",
    "# The following questions reference the students data structure below. \n",
    "# Write the python code to answer the following questions:\n",
    "\n",
    "\n",
    "\n",
    "\n",
    "\n",
    "\n",
    "\n",
    "\n",
    "\n",
    "\n",
    "\n",
    "\n",
    "\n",
    "\n",
    "\n",
    "\n",
    "\n",
    "# What is the average grade range (i.e. highest grade - lowest grade) for dark coffee drinkers?\n",
    "# What is the average number of pets for medium coffee drinkers?\n",
    "# What is the most common type of pet for web development students?\n",
    "# What is the average name length?\n",
    "# What is the highest pet age for light coffee drinkers?\n",
    "\n"
   ]
  },
  {
   "cell_type": "code",
   "execution_count": 1,
   "id": "e99e6c76",
   "metadata": {},
   "outputs": [],
   "source": [
    "students = [\n",
    "    {\n",
    "        \"id\": \"100001\",\n",
    "        \"student\": \"Ada Lovelace\",\n",
    "        \"coffee_preference\": \"light\",\n",
    "        \"course\": \"web development\",\n",
    "        \"grades\": [70, 91, 82, 71],\n",
    "        \"pets\": [{\"species\": \"horse\", \"age\": 8}],\n",
    "    },\n",
    "    {\n",
    "        \"id\": \"100002\",\n",
    "        \"student\": \"Thomas Bayes\",\n",
    "        \"coffee_preference\": \"medium\",\n",
    "        \"course\": \"data science\",\n",
    "        \"grades\": [75, 73, 86, 100],\n",
    "        \"pets\": [],\n",
    "    },\n",
    "    {\n",
    "        \"id\": \"100003\",\n",
    "        \"student\": \"Marie Curie\",\n",
    "        \"coffee_preference\": \"light\",\n",
    "        \"course\": \"web development\",\n",
    "        \"grades\": [70, 89, 69, 65],\n",
    "        \"pets\": [{\"species\": \"cat\", \"age\": 0}],\n",
    "    },\n",
    "    {\n",
    "        \"id\": \"100004\",\n",
    "        \"student\": \"Grace Hopper\",\n",
    "        \"coffee_preference\": \"dark\",\n",
    "        \"course\": \"data science\",\n",
    "        \"grades\": [73, 66, 83, 92],\n",
    "        \"pets\": [{\"species\": \"dog\", \"age\": 4}, {\"species\": \"cat\", \"age\": 4}],\n",
    "    },\n",
    "    {\n",
    "        \"id\": \"100005\",\n",
    "        \"student\": \"Alan Turing\",\n",
    "        \"coffee_preference\": \"dark\",\n",
    "        \"course\": \"web development\",\n",
    "        \"grades\": [78, 98, 85, 65],\n",
    "        \"pets\": [\n",
    "            {\"species\": \"horse\", \"age\": 6},\n",
    "            {\"species\": \"horse\", \"age\": 7},\n",
    "            {\"species\": \"dog\", \"age\": 5},\n",
    "        ],\n",
    "    },\n",
    "    {\n",
    "        \"id\": \"100006\",\n",
    "        \"student\": \"Rosalind Franklin\",\n",
    "        \"coffee_preference\": \"dark\",\n",
    "        \"course\": \"data science\",\n",
    "        \"grades\": [76, 70, 96, 81],\n",
    "        \"pets\": [],\n",
    "    },\n",
    "    {\n",
    "        \"id\": \"100007\",\n",
    "        \"student\": \"Elizabeth Blackwell\",\n",
    "        \"coffee_preference\": \"dark\",\n",
    "        \"course\": \"web development\",\n",
    "        \"grades\": [69, 94, 89, 86],\n",
    "        \"pets\": [{\"species\": \"cat\", \"age\": 10}],\n",
    "    },\n",
    "    {\n",
    "        \"id\": \"100008\",\n",
    "        \"student\": \"Rene Descartes\",\n",
    "        \"coffee_preference\": \"medium\",\n",
    "        \"course\": \"data science\",\n",
    "        \"grades\": [87, 79, 90, 99],\n",
    "        \"pets\": [{\"species\": \"cat\", \"age\": 10}, {\"species\": \"cat\", \"age\": 8}],\n",
    "    },\n",
    "    {\n",
    "        \"id\": \"100009\",\n",
    "        \"student\": \"Ahmed Zewail\",\n",
    "        \"coffee_preference\": \"medium\",\n",
    "        \"course\": \"data science\",\n",
    "        \"grades\": [74, 99, 93, 89],\n",
    "        \"pets\": [{\"species\": \"cat\", \"age\": 0}, {\"species\": \"cat\", \"age\": 0}],\n",
    "    },\n",
    "    {\n",
    "        \"id\": \"100010\",\n",
    "        \"student\": \"Chien-Shiung Wu\",\n",
    "        \"coffee_preference\": \"medium\",\n",
    "        \"course\": \"web development\",\n",
    "        \"grades\": [82, 92, 91, 65],\n",
    "        \"pets\": [{\"species\": \"cat\", \"age\": 8}],\n",
    "    },\n",
    "    {\n",
    "        \"id\": \"100011\",\n",
    "        \"student\": \"William Sanford Nye\",\n",
    "        \"coffee_preference\": \"dark\",\n",
    "        \"course\": \"data science\",\n",
    "        \"grades\": [70, 92, 65, 99],\n",
    "        \"pets\": [{\"species\": \"cat\", \"age\": 8}, {\"species\": \"cat\", \"age\": 5}],\n",
    "    },\n",
    "    {\n",
    "        \"id\": \"100012\",\n",
    "        \"student\": \"Carl Sagan\",\n",
    "        \"coffee_preference\": \"medium\",\n",
    "        \"course\": \"data science\",\n",
    "        \"grades\": [100, 86, 91, 87],\n",
    "        \"pets\": [{\"species\": \"cat\", \"age\": 10}],\n",
    "    },\n",
    "    {\n",
    "        \"id\": \"100013\",\n",
    "        \"student\": \"Jane Goodall\",\n",
    "        \"coffee_preference\": \"light\",\n",
    "        \"course\": \"web development\",\n",
    "        \"grades\": [80, 70, 68, 98],\n",
    "        \"pets\": [{\"species\": \"horse\", \"age\": 4}],\n",
    "    },\n",
    "    {\n",
    "        \"id\": \"100014\",\n",
    "        \"student\": \"Richard Feynman\",\n",
    "        \"coffee_preference\": \"medium\",\n",
    "        \"course\": \"web development\",\n",
    "        \"grades\": [73, 99, 86, 98],\n",
    "        \"pets\": [{\"species\": \"dog\", \"age\": 6}],\n",
    "    },\n",
    "]"
   ]
  },
  {
   "cell_type": "code",
   "execution_count": 5,
   "id": "4cb8ef19",
   "metadata": {},
   "outputs": [
    {
     "name": "stdout",
     "output_type": "stream",
     "text": [
      "there are 14 students\n"
     ]
    }
   ],
   "source": [
    "# How many students are there\n",
    "print('there are', len(students), 'students')"
   ]
  },
  {
   "cell_type": "code",
   "execution_count": 12,
   "id": "49d9b932",
   "metadata": {},
   "outputs": [
    {
     "name": "stdout",
     "output_type": "stream",
     "text": [
      "there are 3 students that like light coffee\n"
     ]
    }
   ],
   "source": [
    "# How many students prefer light coffee? For each type of coffee roast?\n",
    "count = 0\n",
    "for i in students:\n",
    "    if i[\"coffee_preference\"] == 'light':\n",
    "        count +=1\n",
    "print('there are', count, 'students that like light coffee')"
   ]
  },
  {
   "cell_type": "code",
   "execution_count": 69,
   "id": "638d9bf6",
   "metadata": {},
   "outputs": [
    {
     "name": "stdout",
     "output_type": "stream",
     "text": [
      "there are 3 types of pets\n",
      "there are 4 horses\n",
      "there are 11 cats\n",
      "there are 3 dogs\n",
      "\n"
     ]
    }
   ],
   "source": [
    "# How many types of each pet are there?\n",
    "        \n",
    "pet_count = {'cat':0, 'dog':0, 'horse':0}\n",
    "the_list_of_species = []\n",
    "for i in students:\n",
    "    for j in i['pets']:\n",
    "        the_list_of_species.append(j['species'])\n",
    "\n",
    "\n",
    "for y in the_list_of_species:\n",
    "    if y == 'horse':\n",
    "        pet_count['horse'] += 1\n",
    "    elif y == 'cat':\n",
    "        pet_count['cat'] += 1\n",
    "    elif y == 'dog':\n",
    "        pet_count['dog'] += 1\n",
    "        \n",
    "print('there are 3 types of pets')\n",
    "print('there are', pet_count['horse'], 'horses\\n'\n",
    "      'there are', pet_count['cat'], 'cats\\n'\n",
    "      'there are', pet_count['dog'], 'dogs\\n'\n",
    "     )\n"
   ]
  },
  {
   "cell_type": "code",
   "execution_count": 41,
   "id": "5abd88ee",
   "metadata": {},
   "outputs": [
    {
     "name": "stdout",
     "output_type": "stream",
     "text": [
      "[70, 91, 82, 71]\n",
      "[75, 73, 86, 100]\n",
      "[70, 89, 69, 65]\n",
      "[73, 66, 83, 92]\n",
      "[78, 98, 85, 65]\n",
      "[76, 70, 96, 81]\n",
      "[69, 94, 89, 86]\n",
      "[87, 79, 90, 99]\n",
      "[74, 99, 93, 89]\n",
      "[82, 92, 91, 65]\n",
      "[70, 92, 65, 99]\n",
      "[100, 86, 91, 87]\n",
      "[80, 70, 68, 98]\n",
      "[73, 99, 86, 98]\n"
     ]
    }
   ],
   "source": [
    "# How many grades does each student have? \n",
    "# Do they all have the same number of grades?\n",
    "the_count_of_grades = []\n",
    "grades = []\n",
    "the_same_length = True\n",
    "for i in students:\n",
    "    for j in i[\"grades\"]:\n",
    "        grades.append(j)\n",
    "    the_count_of_grades.append(grades)\n",
    "    grades = []  \n",
    "for l in the_count_of_grades:\n",
    "    print(l)\n",
    "    if len(l) != 4:\n",
    "        the_same_length = False\n",
    "        print(l,'Some students have more or less than 3 grades')\n",
    "        \n",
    "### the amount of grades per student in 4\n",
    "\n",
    "\n",
    "\n",
    "## yes they all have the same number of grades\n",
    "\n",
    "\n",
    "    \n",
    "\n"
   ]
  },
  {
   "cell_type": "code",
   "execution_count": 67,
   "id": "6199af7a",
   "metadata": {},
   "outputs": [
    {
     "name": "stdout",
     "output_type": "stream",
     "text": [
      "student name: Ada Lovelace \n",
      "student average: 78.5 \n",
      "\n",
      "student name: Thomas Bayes \n",
      "student average: 83.5 \n",
      "\n",
      "student name: Marie Curie \n",
      "student average: 73.25 \n",
      "\n",
      "student name: Grace Hopper \n",
      "student average: 78.5 \n",
      "\n",
      "student name: Alan Turing \n",
      "student average: 81.5 \n",
      "\n",
      "student name: Rosalind Franklin \n",
      "student average: 80.75 \n",
      "\n",
      "student name: Elizabeth Blackwell \n",
      "student average: 84.5 \n",
      "\n",
      "student name: Rene Descartes \n",
      "student average: 88.75 \n",
      "\n",
      "student name: Ahmed Zewail \n",
      "student average: 88.75 \n",
      "\n",
      "student name: Chien-Shiung Wu \n",
      "student average: 82.5 \n",
      "\n",
      "student name: William Sanford Nye \n",
      "student average: 81.5 \n",
      "\n",
      "student name: Carl Sagan \n",
      "student average: 91.0 \n",
      "\n",
      "student name: Jane Goodall \n",
      "student average: 79.0 \n",
      "\n",
      "student name: Richard Feynman \n",
      "student average: 89.0 \n",
      "\n"
     ]
    }
   ],
   "source": [
    "# What is each student's grade average?\n",
    "student_average_dict = {}\n",
    "count = 0\n",
    "student_average = 0\n",
    "\n",
    "for i in students:\n",
    "    for j in i['grades']:\n",
    "        student_average += j\n",
    "        count += 1\n",
    "        \n",
    "    student_average_dict[i[\"student\"]] = round(student_average / count, 2)\n",
    "    \n",
    "    count  = 0\n",
    "    student_average = 0\n",
    "    \n",
    "\n",
    "for i in student_average_dict:\n",
    "    print('student name:', i, '\\nstudent average:', student_average_dict[i] , '\\n')\n"
   ]
  },
  {
   "cell_type": "code",
   "execution_count": 10,
   "id": "98755a79",
   "metadata": {},
   "outputs": [
    {
     "name": "stdout",
     "output_type": "stream",
     "text": [
      "the student Ada Lovelace has 1 pet(s)\n",
      "\n",
      "\n",
      "the student Thomas Bayes has 0 pet(s)\n",
      "\n",
      "\n",
      "the student Marie Curie has 1 pet(s)\n",
      "\n",
      "\n",
      "the student Grace Hopper has 2 pet(s)\n",
      "\n",
      "\n",
      "the student Alan Turing has 3 pet(s)\n",
      "\n",
      "\n",
      "the student Rosalind Franklin has 0 pet(s)\n",
      "\n",
      "\n",
      "the student Elizabeth Blackwell has 1 pet(s)\n",
      "\n",
      "\n",
      "the student Rene Descartes has 2 pet(s)\n",
      "\n",
      "\n",
      "the student Ahmed Zewail has 2 pet(s)\n",
      "\n",
      "\n",
      "the student Chien-Shiung Wu has 1 pet(s)\n",
      "\n",
      "\n",
      "the student William Sanford Nye has 2 pet(s)\n",
      "\n",
      "\n",
      "the student Carl Sagan has 1 pet(s)\n",
      "\n",
      "\n",
      "the student Jane Goodall has 1 pet(s)\n",
      "\n",
      "\n",
      "the student Richard Feynman has 1 pet(s)\n",
      "\n",
      "\n"
     ]
    }
   ],
   "source": [
    "# How many pets does each student have?\n",
    "the_students_pets = {}\n",
    "list_of_pets = []\n",
    "number_pets_dict = {}\n",
    "\n",
    "for i in students:\n",
    "    for j in i['pets']:\n",
    "        list_of_pets.append(j[\"species\"])\n",
    "    \n",
    "        \n",
    "    the_students_pets[i[\"student\"]] = list_of_pets \n",
    "    list_of_pets = []\n",
    "    \n",
    "for name,pet_list in the_students_pets.items():\n",
    "    number_pets_dict[name] = len(pet_list)\n",
    "    \n",
    "    \n",
    "    \n",
    "\n",
    "\n",
    "for name, pet_number in number_pets_dict.items():\n",
    "    print('the student', name, 'has', pet_number, 'pet(s)\\n\\n')"
   ]
  },
  {
   "cell_type": "code",
   "execution_count": 21,
   "id": "e655f1f5",
   "metadata": {},
   "outputs": [
    {
     "name": "stdout",
     "output_type": "stream",
     "text": [
      "there are 7 students in web development\n",
      "and 7 students in data science\n"
     ]
    }
   ],
   "source": [
    "# How many students are in web development? data science?\n",
    "the_dict = {'web development':0, 'data science':0}\n",
    "for i in students:\n",
    "   \n",
    "    if i[\"course\"] == 'web development':\n",
    "        the_dict['web development'] +=1\n",
    "    elif i[\"course\"] == 'data science':\n",
    "        the_dict['data science'] +=1\n",
    "        \n",
    "        \n",
    "print('there are', the_dict['web development'], 'students in web development\\nand',\n",
    "      the_dict['web development'],'students in data science')\n",
    "    "
   ]
  },
  {
   "cell_type": "code",
   "execution_count": 32,
   "id": "1218a0e8",
   "metadata": {},
   "outputs": [
    {
     "name": "stdout",
     "output_type": "stream",
     "text": [
      "the average number of pets for students in web development is 1.29\n"
     ]
    }
   ],
   "source": [
    "# What is the average number of pets for students in web development?\n",
    "\n",
    "web_total_students = 0\n",
    "data_total_students = 0\n",
    "total_pets_web = 0\n",
    "total_pets_data = 0\n",
    "web_student_list = []\n",
    "\n",
    "for i in students:\n",
    "    if i[\"course\"] == 'web development':\n",
    "        web_student_list.append(i['student'])\n",
    "        web_total_students +=1\n",
    "        total_pets_web += number_pets_dict[i['student']]\n",
    "    elif i[\"course\"] == 'data science':\n",
    "        data_total_students +=1\n",
    "        total_pets_data += number_pets_dict[i['student']]\n",
    "        \n",
    "print('the average number of pets for students in web development is', round(total_pets_web / web_total_students,2))\n",
    "\n"
   ]
  },
  {
   "cell_type": "code",
   "execution_count": 60,
   "id": "284db078",
   "metadata": {},
   "outputs": [
    {
     "name": "stdout",
     "output_type": "stream",
     "text": [
      "The average pet age for students in data science is 5.44\n"
     ]
    }
   ],
   "source": [
    "# What is the average pet age for students in data science?\n",
    "pet_age = 0\n",
    "count = 0\n",
    "for i in students:\n",
    "    if i[\"course\"] == 'data science':\n",
    "        for j in i[\"pets\"]:\n",
    "            \n",
    "            count += 1\n",
    "            pet_age += j['age']\n",
    "print('The average pet age for students in data science is', round(pet_age / count,2))\n",
    "        "
   ]
  },
  {
   "cell_type": "code",
   "execution_count": 78,
   "id": "8f222b33",
   "metadata": {},
   "outputs": [
    {
     "name": "stdout",
     "output_type": "stream",
     "text": [
      "{'medium': 4, 'dark': 3}\n",
      "the most frequent coffee preference is medium at 4 students\n"
     ]
    }
   ],
   "source": [
    "# What is most frequent coffee preference for data science students?\n",
    "the_dict_for_coffee = {'medium':0,'dark':0}\n",
    "\n",
    "\n",
    "for i in students:\n",
    "    if i[\"course\"] == 'data science':\n",
    "        the_dict_for_coffee[i[\"coffee_preference\"]] +=1\n",
    "print(the_dict_for_coffee)\n",
    "\n",
    "print('the most frequent coffee preference is medium at 4 students')\n",
    "\n",
    "\n",
    "    "
   ]
  },
  {
   "cell_type": "code",
   "execution_count": 81,
   "id": "6757d525",
   "metadata": {},
   "outputs": [
    {
     "name": "stdout",
     "output_type": "stream",
     "text": [
      "{'medium': 2, 'dark': 2, 'light': 3}\n",
      "the tie for least frequent coffee preference is medium and dark coffee\n"
     ]
    }
   ],
   "source": [
    "# What is the least frequent coffee preference for web development students?\n",
    "the_dict_for_coffee = {'medium':0,'dark':0,\"light\":0}\n",
    "\n",
    "\n",
    "for i in students:\n",
    "    if i[\"course\"] == 'web development':\n",
    "        the_dict_for_coffee[i[\"coffee_preference\"]] +=1\n",
    "print(the_dict_for_coffee)\n",
    "\n",
    "print('the tie for least frequent coffee preference is medium and dark coffee')\n"
   ]
  },
  {
   "cell_type": "code",
   "execution_count": 109,
   "id": "6184d76f",
   "metadata": {
    "scrolled": true
   },
   "outputs": [
    {
     "name": "stdout",
     "output_type": "stream",
     "text": [
      "[78.5, 81.5, 88.75, 88.75, 81.5]\n",
      "the average grade for students with at least two pets is 83.8\n"
     ]
    }
   ],
   "source": [
    "# What is the average grade for students with at least 2 pets?\n",
    "grade_sum_list = []\n",
    "student_amount = 0\n",
    "total = 0\n",
    "average_grade = 0\n",
    "for i in students:\n",
    "    if len(i[\"pets\"]) >= 2:\n",
    "        student_amount += 1\n",
    "        for j in i[\"grades\"]:\n",
    "            total += j\n",
    "            \n",
    "        average_grade = total / 4\n",
    "        \n",
    "        grade_sum_list.append(average_grade)\n",
    "        average_grade = 0\n",
    "        total = 0\n",
    "\n",
    "\n",
    "total = 0\n",
    "print(grade_sum_list)\n",
    "for i in grade_sum_list:\n",
    "    total += i\n",
    "    \n",
    "print('the average grade for students with at least two pets is',total / len(grade_sum_list))\n",
    "    \n",
    "        \n",
    "\n",
    "\n",
    "    \n",
    "    \n",
    "\n",
    "        \n"
   ]
  },
  {
   "cell_type": "code",
   "execution_count": 119,
   "id": "994ec577",
   "metadata": {},
   "outputs": [
    {
     "name": "stdout",
     "output_type": "stream",
     "text": [
      "there is 1 student(s) that have three pets\n"
     ]
    }
   ],
   "source": [
    "# How many students have 3 pets?\n",
    "count = 0\n",
    "for i in students:\n",
    "    if len(i[\"pets\"]) == 3:\n",
    "        count+= 1\n",
    "        \n",
    "print('there is', count, 'student(s) that have three pets')\n",
    "    "
   ]
  },
  {
   "cell_type": "code",
   "execution_count": 120,
   "id": "e530adef",
   "metadata": {},
   "outputs": [],
   "source": [
    "# What is the average grade for students with 0 pets?\n"
   ]
  },
  {
   "cell_type": "code",
   "execution_count": 125,
   "id": "b8121fb3",
   "metadata": {},
   "outputs": [
    {
     "name": "stdout",
     "output_type": "stream",
     "text": [
      "[83.5, 80.75]\n",
      "the average grade for students with zero pets is 82.125\n"
     ]
    }
   ],
   "source": [
    "grade_sum_list = []\n",
    "student_amount = 0\n",
    "total = 0\n",
    "average_grade = 0\n",
    "for i in students:\n",
    "    if len(i[\"pets\"]) == 0:\n",
    "\n",
    "        student_amount += 1\n",
    "        for j in i[\"grades\"]:\n",
    "            total += j\n",
    "            \n",
    "        average_grade = total / 4\n",
    "        \n",
    "        grade_sum_list.append(average_grade)\n",
    "        average_grade = 0\n",
    "        total = 0\n",
    "\n",
    "\n",
    "total = 0\n",
    "print(grade_sum_list)\n",
    "for i in grade_sum_list:\n",
    "    total += i\n",
    "    \n",
    "print('the average grade for students with zero pets is',total / len(grade_sum_list))"
   ]
  },
  {
   "cell_type": "code",
   "execution_count": 131,
   "id": "e3d6d2d2",
   "metadata": {},
   "outputs": [
    {
     "name": "stdout",
     "output_type": "stream",
     "text": [
      "[78.5, 73.25, 81.5, 84.5, 82.5, 79.0, 89.0]\n"
     ]
    }
   ],
   "source": [
    "# What is the average grade for web development students? data science students?\n",
    "total = 0\n",
    "avg_single_student = 0\n",
    "the_list_of_averages_web_dev = []\n",
    "for i in students:\n",
    "    if i['course'] == 'web development':\n",
    "        for j in i[\"grades\"]:\n",
    "            total += j\n",
    "        \n",
    "        the_list_of_averages_web_dev.append(total / len(i[\"grades\"]))\n",
    "        total = 0\n",
    "        avg_single_student = 0\n",
    "print(the_list_of_averages_web_dev)\n",
    "#######finish me        "
   ]
  },
  {
   "cell_type": "code",
   "execution_count": null,
   "id": "5a2bb0d0",
   "metadata": {},
   "outputs": [],
   "source": []
  }
 ],
 "metadata": {
  "kernelspec": {
   "display_name": "Python 3 (ipykernel)",
   "language": "python",
   "name": "python3"
  },
  "language_info": {
   "codemirror_mode": {
    "name": "ipython",
    "version": 3
   },
   "file_extension": ".py",
   "mimetype": "text/x-python",
   "name": "python",
   "nbconvert_exporter": "python",
   "pygments_lexer": "ipython3",
   "version": "3.9.13"
  }
 },
 "nbformat": 4,
 "nbformat_minor": 5
}
