{
 "cells": [
  {
   "cell_type": "code",
   "execution_count": 1,
   "id": "981b7465",
   "metadata": {},
   "outputs": [],
   "source": [
    "# 17 list comprehension problems in python\n",
    "\n",
    "fruits = ['mango', 'kiwi', 'strawberry', 'guava', 'pineapple', 'mandarin orange']\n",
    "\n",
    "numbers = [2, 3, 4, 5, 6, 7, 8, 9, 10, 11, 13, 17, 19, 23, 256, -8, -4, -2, 5, -9]\n",
    "\n",
    "# Example for loop solution to add 1 to each number in the list\n",
    "numbers_plus_one = []\n",
    "for number in numbers:\n",
    "    numbers_plus_one.append(number + 1)\n",
    "\n",
    "# Example of using a list comprehension to create a list of the numbers plus one.\n",
    "numbers_plus_one = [number + 1 for number in numbers]\n",
    "\n",
    "# Example code that creates a list of all of the list of strings in fruits and uppercases every string\n",
    "output = []\n",
    "for fruit in fruits:\n",
    "    output.append(fruit.upper())\n",
    "\n",
    "\n",
    "\n",
    "\n",
    "\n",
    "\n",
    "\n",
    "\n",
    "\n",
    "\n",
    "\n",
    "\n",
    "\n",
    "\n",
    "\n",
    "\n",
    "\n",
    "\n",
    "\n",
    "\n",
    "\n",
    "\n",
    "\n"
   ]
  },
  {
   "cell_type": "code",
   "execution_count": 4,
   "id": "94275383",
   "metadata": {},
   "outputs": [
    {
     "name": "stdout",
     "output_type": "stream",
     "text": [
      "['MANGO', 'KIWI', 'STRAWBERRY', 'GUAVA', 'PINEAPPLE', 'MANDARIN ORANGE']\n"
     ]
    }
   ],
   "source": [
    "# Exercise 1 - rewrite the above example code using list comprehension syntax. \n",
    "# Make a variable named uppercased_fruits to hold the output of the list comprehension. \n",
    "# Output should be ['MANGO', 'KIWI', etc...]\n",
    "\n",
    "fruits = ['mango', 'kiwi', 'strawberry', 'guava', 'pineapple', 'mandarin orange']\n",
    "uppercased_fruits = []\n",
    "for fruit in fruits:\n",
    "    uppercased_fruits.append(fruit.upper())\n",
    "print(uppercased_fruits)\n",
    "    \n",
    "    "
   ]
  },
  {
   "cell_type": "code",
   "execution_count": 19,
   "id": "27b14075",
   "metadata": {},
   "outputs": [
    {
     "name": "stdout",
     "output_type": "stream",
     "text": [
      "['Mango', 'Kiwi', 'Strawberry', 'Guava', 'Pineapple', 'Mandarin orange']\n"
     ]
    }
   ],
   "source": [
    "# Exercise 2 - create a variable named capitalized_fruits and use list comprehension syntax \n",
    "# to produce output like ['Mango', 'Kiwi', 'Strawberry', etc...]\n",
    "fruits = ['mango', 'kiwi', 'strawberry', 'guava', 'pineapple', 'mandarin orange']\n",
    "\n",
    "capitalized_fruits = []\n",
    "the_fruit = ''\n",
    "for i in fruits:\n",
    "    \n",
    "    for j in range(len(i)):\n",
    "        if j == 0:\n",
    "            the_fruit = the_fruit + i[j].upper()\n",
    "        else:\n",
    "            the_fruit = the_fruit + i[j]\n",
    "        \n",
    "    capitalized_fruits.append(the_fruit)    \n",
    "    the_fruit = ''\n",
    "print(capitalized_fruits) \n",
    "    \n"
   ]
  },
  {
   "cell_type": "code",
   "execution_count": 32,
   "id": "dfc155e5",
   "metadata": {},
   "outputs": [
    {
     "name": "stdout",
     "output_type": "stream",
     "text": [
      "{'mango': True, 'kiwi': True, 'strawberry': True, 'guava': True, 'pineapple': True, 'mandarin orange': True, 'tom': False}\n"
     ]
    }
   ],
   "source": [
    "fruits = ['mango', 'kiwi', 'strawberry', 'guava', 'pineapple', 'mandarin orange', 'tom']\n",
    "\n",
    "# Exercise 3 - Use a list comprehension to make a variable named fruits_with_more_than_two_vowels. \n",
    "# Hint: You'll need a way to check if something is a vowel.\n",
    "\n",
    "capitalized_fruits = {}\n",
    "\n",
    "the_fruit = ''\n",
    "fruits_with_more_than_two_vowels = False\n",
    "vowel_count = 0\n",
    "\n",
    "vowels = ['a','e','i','o','u']\n",
    "\n",
    "for i in fruits:\n",
    "    for j in range(len(i)):\n",
    "            the_fruit = the_fruit + i[j]\n",
    "            if i[j] in vowels:\n",
    "                vowel_count = vowel_count + 1\n",
    "                \n",
    "    if vowel_count >=2:\n",
    "        fruits_with_more_than_two_vowels = True\n",
    "        \n",
    "    capitalized_fruits[the_fruit] = fruits_with_more_than_two_vowels \n",
    "    the_fruit = ''\n",
    "    vowel_count = 0\n",
    "    fruits_with_more_than_two_vowels = False\n",
    "    \n",
    "print(capitalized_fruits) "
   ]
  },
  {
   "cell_type": "code",
   "execution_count": 41,
   "id": "4bc455f9",
   "metadata": {},
   "outputs": [
    {
     "name": "stdout",
     "output_type": "stream",
     "text": [
      "['mango', 'kiwi', 'strawberry']\n"
     ]
    }
   ],
   "source": [
    "# Exercise 4 - make a variable named fruits_with_only_two_vowels. \n",
    "# The result should be ['mango', 'kiwi', 'strawberry']\n",
    "\n",
    "fruits_with_only_two_vowels = False\n",
    "\n",
    "\n",
    "capitalized_fruits = []\n",
    "\n",
    "the_fruit = ''\n",
    "fruits_with_more_than_two_vowels = True\n",
    "vowel_count = 0\n",
    "\n",
    "vowels = ['a','e','i','o','u']\n",
    "\n",
    "for i in fruits:\n",
    "    for j in range(len(i)):\n",
    "            the_fruit = the_fruit + i[j]\n",
    "            if i[j] in vowels:\n",
    "                vowel_count = vowel_count + 1\n",
    "                if vowel_count > 2:\n",
    "                    fruits_with_only_two_vowels = False\n",
    "                    \n",
    "    \n",
    "    \n",
    "    if vowel_count >=2:\n",
    "        fruits_with_more_than_two_vowels = True\n",
    "    if vowel_count == 2:    \n",
    "       capitalized_fruits.append(the_fruit)\n",
    "        \n",
    "    the_fruit = ''\n",
    "    vowel_count = 0\n",
    "    fruits_with_more_than_two_vowels = False\n",
    "    \n",
    "print(capitalized_fruits) "
   ]
  },
  {
   "cell_type": "code",
   "execution_count": 48,
   "id": "7246fbab",
   "metadata": {},
   "outputs": [
    {
     "name": "stdout",
     "output_type": "stream",
     "text": [
      "['strawberry', 'pineapple', 'mandarin orange']\n"
     ]
    }
   ],
   "source": [
    "# Exercise 5 - make a list that contains each fruit with more than 5 characters\n",
    "fruits = ['mango', 'kiwi', 'strawberry', 'guava', 'pineapple', 'mandarin orange']\n",
    "the_new_list = []\n",
    "for i in fruits:\n",
    "    if len(i) > 5:\n",
    "        the_new_list.append(i)\n",
    "        \n",
    "print(the_new_list)"
   ]
  },
  {
   "cell_type": "code",
   "execution_count": 46,
   "id": "5d7af487",
   "metadata": {},
   "outputs": [
    {
     "name": "stdout",
     "output_type": "stream",
     "text": [
      "['mango', 'guava']\n"
     ]
    }
   ],
   "source": [
    "# Exercise 6 - make a list that contains each fruit with exactly 5 characters\n",
    "fruits = ['mango', 'kiwi', 'strawberry', 'guava', 'pineapple', 'mandarin orange']\n",
    "the_new_list = []\n",
    "for i in fruits:\n",
    "    if len(i) == 5:\n",
    "        the_new_list.append(i)\n",
    "        \n",
    "print(the_new_list)"
   ]
  },
  {
   "cell_type": "code",
   "execution_count": 50,
   "id": "aa0c9845",
   "metadata": {},
   "outputs": [
    {
     "name": "stdout",
     "output_type": "stream",
     "text": [
      "['kiwi']\n"
     ]
    }
   ],
   "source": [
    "# Exercise 7 - Make a list that contains fruits that have less than 5 characters\n",
    "\n",
    "fruits = ['mango', 'kiwi', 'strawberry', 'guava', 'pineapple', 'mandarin orange']\n",
    "the_new_list = []\n",
    "for i in fruits:\n",
    "    if len(i) < 5:\n",
    "        the_new_list.append(i)\n",
    "        \n",
    "print(the_new_list)"
   ]
  },
  {
   "cell_type": "code",
   "execution_count": 52,
   "id": "b4caf900",
   "metadata": {},
   "outputs": [
    {
     "name": "stdout",
     "output_type": "stream",
     "text": [
      "[5, 4, 10, 5, 9, 15]\n"
     ]
    }
   ],
   "source": [
    "# Exercise 8 - Make a list containing the number of characters in each fruit.\n",
    "# Output would be [5, 4, 10, etc... ]\n",
    "fruits = ['mango', 'kiwi', 'strawberry', 'guava', 'pineapple', 'mandarin orange']\n",
    "number_char_list = []\n",
    "for i in fruits:\n",
    "    number_char_list.append(len(i))\n",
    "\n",
    "print(number_char_list)\n",
    "    "
   ]
  },
  {
   "cell_type": "code",
   "execution_count": 57,
   "id": "ae88f6ce",
   "metadata": {},
   "outputs": [
    {
     "name": "stdout",
     "output_type": "stream",
     "text": [
      "['mango', 'strawberry', 'guava', 'pineapple', 'mandarin orange', 'apple']\n"
     ]
    }
   ],
   "source": [
    "# Exercise 9 - Make a variable named fruits_with_letter_a \n",
    "# that contains a list of only the fruits that contain the letter \"a\"\n",
    "\n",
    "fruits = ['mango', 'kiwi', 'strawberry', 'guava', 'pineapple', 'mandarin orange', 'apple']\n",
    "\n",
    "fruits_with_letter_a = []\n",
    "for i in fruits:\n",
    "    if 'a' in i or 'A' in i:\n",
    "        fruits_with_letter_a.append(i)\n",
    "print(fruits_with_letter_a)        \n"
   ]
  },
  {
   "cell_type": "code",
   "execution_count": 59,
   "id": "62d16bb0",
   "metadata": {},
   "outputs": [
    {
     "name": "stdout",
     "output_type": "stream",
     "text": [
      "[2, 4, 6, 8, 10, 256, -8, -4, -2]\n"
     ]
    }
   ],
   "source": [
    "# Exercise 10 - Make a variable named even_numbers that holds only the even numbers \n",
    "numbers = [2, 3, 4, 5, 6, 7, 8, 9, 10, 11, 13, 17, 19, 23, 256, -8, -4, -2, 5, -9]\n",
    "even_numbers= []\n",
    "for i in numbers:\n",
    "    if i % 2 == 0:\n",
    "        even_numbers.append(i)\n",
    "        \n",
    "print(even_numbers)"
   ]
  },
  {
   "cell_type": "code",
   "execution_count": 61,
   "id": "d31bce84",
   "metadata": {},
   "outputs": [
    {
     "name": "stdout",
     "output_type": "stream",
     "text": [
      "[3, 5, 7, 9, 11, 13, 17, 19, 23, 5, -9]\n"
     ]
    }
   ],
   "source": [
    "# Exercise 11 - Make a variable named odd_numbers that holds only the odd numbers\n",
    "numbers = [2, 3, 4, 5, 6, 7, 8, 9, 10, 11, 13, 17, 19, 23, 256, -8, -4, -2, 5, -9]\n",
    "odd_numbers= []\n",
    "for i in numbers:\n",
    "    if i % 2 != 0:\n",
    "        odd_numbers.append(i)\n",
    "        \n",
    "print(odd_numbers)"
   ]
  },
  {
   "cell_type": "code",
   "execution_count": 63,
   "id": "e897896c",
   "metadata": {},
   "outputs": [
    {
     "name": "stdout",
     "output_type": "stream",
     "text": [
      "[2, 3, 4, 5, 6, 7, 8, 9, 10, 11, 13, 17, 19, 23, 256, 5]\n"
     ]
    }
   ],
   "source": [
    "# Exercise 12 - Make a variable named positive_numbers that holds only the positive numbers\n",
    "\n",
    "numbers = [2, 3, 4, 5, 6, 7, 8, 9, 10, 11, 13, 17, 19, 23, 256, -8, -4, -2, 5, -9]\n",
    "positive_numbers= []\n",
    "for i in numbers:\n",
    "    if i > 0:\n",
    "        positive_numbers.append(i)\n",
    "        \n",
    "print(positive_numbers)"
   ]
  },
  {
   "cell_type": "code",
   "execution_count": 65,
   "id": "833c243b",
   "metadata": {},
   "outputs": [
    {
     "name": "stdout",
     "output_type": "stream",
     "text": [
      "[-8, -4, -2, -9]\n"
     ]
    }
   ],
   "source": [
    "# Exercise 13 - Make a variable named negative_numbers that holds only the negative numbers\n",
    "\n",
    "numbers = [2, 3, 4, 5, 6, 7, 8, 9, 10, 11, 13, 17, 19, 23, 256, -8, -4, -2, 5, -9]\n",
    "negative_numbers= []\n",
    "for i in numbers:\n",
    "    if i < 0:\n",
    "        negative_numbers.append(i)\n",
    "        \n",
    "print(negative_numbers)"
   ]
  },
  {
   "cell_type": "code",
   "execution_count": 69,
   "id": "2b4e7317",
   "metadata": {},
   "outputs": [
    {
     "name": "stdout",
     "output_type": "stream",
     "text": [
      "[10, 11, 13, 17, 19, 23, 256, -99]\n"
     ]
    }
   ],
   "source": [
    "# Exercise 14 - use a list comprehension w/ a conditional in order to produce a \n",
    "# list of numbers with 2 or more numerals\n",
    "\n",
    "numbers = [2, 3, 4, 5, 6, 7, 8, 9, 10, 11, 13, 17, 19, 23, 256, -8, -4, -2, 5, -9, -99]\n",
    "two_numberals= []\n",
    "for i in numbers:\n",
    "    if i < -9 or i > 9:\n",
    "        two_numberals.append(i)\n",
    "        \n",
    "print(two_numberals)\n"
   ]
  },
  {
   "cell_type": "code",
   "execution_count": 71,
   "id": "00402772",
   "metadata": {},
   "outputs": [
    {
     "name": "stdout",
     "output_type": "stream",
     "text": [
      "[4, 9, 16, 25, 36, 49, 64, 81, 100, 121, 169, 289, 361, 529, 65536, 64, 16, 4, 25, 81, 9801]\n"
     ]
    }
   ],
   "source": [
    "# Exercise 15 - Make a variable named numbers_squared that \n",
    "# contains the numbers list with each element squared. Output is [4, 9, 16, etc...]\n",
    "numbers = [2, 3, 4, 5, 6, 7, 8, 9, 10, 11, 13, 17, 19, 23, 256, -8, -4, -2, 5, -9, -99]\n",
    "\n",
    "numbers_squared = []\n",
    "for i in numbers:\n",
    "    numbers_squared.append(i * i)\n",
    "print(numbers_squared)"
   ]
  },
  {
   "cell_type": "code",
   "execution_count": 74,
   "id": "34d4c33e",
   "metadata": {},
   "outputs": [
    {
     "name": "stdout",
     "output_type": "stream",
     "text": [
      "[-9, -3]\n"
     ]
    }
   ],
   "source": [
    "# Exercise 16 - Make a variable named odd_negative_numbers that contains only the numbers \n",
    "# that are both odd and negative.\n",
    "\n",
    "numbers = [2, 3, 4, 5, 6, 7, 8, 9, 10, 11, 13, 17, 19, 23, 256, -8, -4, -2, 5, -9, -3]\n",
    "odd_negative_numbers= []\n",
    "for i in numbers:\n",
    "    if i < 0 and i % 2 != 0:\n",
    "        odd_negative_numbers.append(i)\n",
    "        \n",
    "print(odd_negative_numbers)"
   ]
  },
  {
   "cell_type": "code",
   "execution_count": 75,
   "id": "aa140dcf",
   "metadata": {},
   "outputs": [
    {
     "name": "stdout",
     "output_type": "stream",
     "text": [
      "[7, 8, 9, 10, 11, 12, 13, 14, 15, 16, 18, 22, 24, 28, 261, -3, 1, 3, 10, -4, 2]\n"
     ]
    }
   ],
   "source": [
    "# Exercise 17 - Make a variable named numbers_plus_5. In it, \n",
    "# return a list containing each number plus five. \n",
    "numbers_plus_5 = []\n",
    "for i in numbers:\n",
    "    numbers_plus_5.append(i + 5)\n",
    "    \n",
    "print(numbers_plus_5)\n"
   ]
  },
  {
   "cell_type": "code",
   "execution_count": 81,
   "id": "3ebee779",
   "metadata": {},
   "outputs": [
    {
     "name": "stdout",
     "output_type": "stream",
     "text": [
      "the number 2 is NOT prime\n",
      "the number 3 is prime\n",
      "the number 4 is NOT prime\n",
      "the number 5 is prime\n",
      "the number 6 is NOT prime\n",
      "the number 7 is prime\n",
      "the number 8 is NOT prime\n",
      "the number 9 is NOT prime\n",
      "the number 10 is NOT prime\n",
      "the number 11 is prime\n",
      "the number 13 is prime\n",
      "the number 17 is prime\n",
      "the number 19 is prime\n",
      "the number 23 is prime\n",
      "the number 256 is NOT prime\n",
      "the number -8 is NOT prime\n",
      "the number -4 is NOT prime\n",
      "the number -2 is NOT prime\n",
      "the number 5 is prime\n",
      "the number -9 is prime\n",
      "the number -3 is prime\n"
     ]
    }
   ],
   "source": [
    "# # BONUS Make a variable named \"primes\" that is a list containing \n",
    "# the prime numbers in the numbers list. *Hint* you may want to make \n",
    "# or find a helper function that determines if a given number is prime or not\n",
    "\n",
    "numbers = [2, 3, 4, 5, 6, 7, 8, 9, 10, 11, 13, 17, 19, 23, 256, -8, -4, -2, 5, -9, -3]\n",
    "\n",
    "isprime = True\n",
    "for i in numbers:\n",
    "    if i % 2 == 0:\n",
    "        isprime = False\n",
    "    elif i % 3 == 0 and i > 3:\n",
    "        isprime = False\n",
    "    elif i % 5 == 0 and i > 5:\n",
    "        isprime = False\n",
    "    elif i % 7 == 0 and i > 7:\n",
    "        isprime = False\n",
    "        \n",
    "    if isprime == True:\n",
    "        print('the number', i, 'is prime')\n",
    "    else:\n",
    "        print('the number', i, 'is NOT prime')\n",
    "        \n",
    "    isprime = True"
   ]
  }
 ],
 "metadata": {
  "kernelspec": {
   "display_name": "Python 3 (ipykernel)",
   "language": "python",
   "name": "python3"
  },
  "language_info": {
   "codemirror_mode": {
    "name": "ipython",
    "version": 3
   },
   "file_extension": ".py",
   "mimetype": "text/x-python",
   "name": "python",
   "nbconvert_exporter": "python",
   "pygments_lexer": "ipython3",
   "version": "3.9.13"
  }
 },
 "nbformat": 4,
 "nbformat_minor": 5
}
