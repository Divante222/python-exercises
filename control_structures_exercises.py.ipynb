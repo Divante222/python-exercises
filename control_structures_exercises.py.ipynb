{
 "cells": [
  {
   "cell_type": "code",
   "execution_count": 1,
   "id": "dd03b19c",
   "metadata": {},
   "outputs": [],
   "source": [
    "# Conditional Basics"
   ]
  },
  {
   "cell_type": "code",
   "execution_count": 12,
   "id": "ff8abf67",
   "metadata": {},
   "outputs": [
    {
     "name": "stdout",
     "output_type": "stream",
     "text": [
      "What day of the week is it?dasf\n",
      "The day of the week is not Monday\n"
     ]
    }
   ],
   "source": [
    "# Prompt the user for a day of the week, print out whether the day is Monday or not\n",
    "user_input = input('What day of the week is it?')\n",
    "\n",
    "user_input.lower()\n",
    "new_str = ''\n",
    "for i in range(0, len(user_input)):\n",
    "    j = user_input[i]\n",
    "    if i == 0:\n",
    "        j = user_input[i].upper()\n",
    "    new_str = new_str + j\n",
    "if new_str == 'Monday':\n",
    "    print('The day of the week is Monday')\n",
    "else: \n",
    "    print('The day of the week is not Monday')\n"
   ]
  },
  {
   "cell_type": "code",
   "execution_count": 16,
   "id": "0c9818cf",
   "metadata": {
    "scrolled": true
   },
   "outputs": [
    {
     "name": "stdout",
     "output_type": "stream",
     "text": [
      "What day of the week is it?sudakfs\n",
      "it is not a weekend\n"
     ]
    }
   ],
   "source": [
    "# Prompt the user for a day of the week, print out whether the day is a weekday or a weekend\n",
    "\n",
    "user_input = input('What day of the week is it?')\n",
    "\n",
    "user_input.lower()\n",
    "new_str = ''\n",
    "for i in range(0, len(user_input)):\n",
    "    j = user_input[i]\n",
    "    if i == 0:\n",
    "        j = user_input[i].upper()\n",
    "    new_str = new_str + j\n",
    "    \n",
    "weekends = ['Saturday', 'Sunday']\n",
    "\n",
    "if new_str in weekends:\n",
    "    print('it is a weekend')\n",
    "else:\n",
    "    print('it is not a weekend')"
   ]
  },
  {
   "cell_type": "code",
   "execution_count": 22,
   "id": "95867ccb",
   "metadata": {},
   "outputs": [
    {
     "name": "stdout",
     "output_type": "stream",
     "text": [
      "how many hours did you work this week?60\n",
      "what is your hourly rate10\n",
      "700.0\n"
     ]
    }
   ],
   "source": [
    "# Calculate a weekly paycheck, accounting for overtime pay. Create variables and make up values for:\n",
    "# The number of hours worked in one week\n",
    "# The hourly rate\n",
    "total_pay = 0\n",
    "\n",
    "number_of_hours_worked = input('how many hours did you work this week?')\n",
    "number_of_hours_worked = int(number_of_hours_worked)\n",
    "\n",
    "\n",
    "the_hourly_rate = input('what is your hourly rate')\n",
    "the_hourly_rate = float(the_hourly_rate)\n",
    "\n",
    "# For calculating pay:\n",
    "\n",
    "# For working 40 hours or less, each hour is paid at the hourly rate\n",
    "# For working more than 40 hours\n",
    "if number_of_hours_worked <= 40:\n",
    "    total_pay = number_of_hours_worked * the_hourly_rate\n",
    "elif number_of_hours_worked > 40:\n",
    "    the_extra = number_of_hours_worked - 40\n",
    "    total_pay = 40 * the_hourly_rate\n",
    "    total_pay = total_pay + (the_extra * (the_hourly_rate * 1.5))\n",
    "print(total_pay)\n",
    "\n",
    "# the first 40 hours are paid at the hourly rate\n",
    "\n",
    "# each hour after 40 is paid at time and a half (hourly rate * 1.5)"
   ]
  },
  {
   "cell_type": "code",
   "execution_count": 25,
   "id": "05184cf6",
   "metadata": {},
   "outputs": [
    {
     "name": "stdout",
     "output_type": "stream",
     "text": [
      "5\n",
      "6\n",
      "7\n",
      "8\n",
      "9\n",
      "10\n",
      "11\n",
      "12\n",
      "13\n",
      "14\n",
      "15\n"
     ]
    }
   ],
   "source": [
    "# While\n",
    "\n",
    "# Create an integer variable i with a value of 5. \n",
    "i = 5\n",
    "\n",
    "    \n",
    "# Create a while loop that runs so long as i is less than or equal to 15. \n",
    "while i <= 15:\n",
    "    print(i)\n",
    "    i = i + 1\n",
    "# Each loop iteration, output the current value of i, then increment i by one.\n"
   ]
  },
  {
   "cell_type": "code",
   "execution_count": 32,
   "id": "cc96c0bc",
   "metadata": {},
   "outputs": [
    {
     "name": "stdout",
     "output_type": "stream",
     "text": [
      "2\n",
      "4\n",
      "6\n",
      "8\n",
      "10\n",
      "12\n",
      "14\n",
      "16\n",
      "18\n",
      "20\n",
      "22\n",
      "24\n",
      "26\n",
      "28\n",
      "30\n",
      "32\n",
      "34\n",
      "36\n",
      "38\n",
      "40\n",
      "42\n",
      "44\n",
      "46\n",
      "48\n",
      "50\n",
      "52\n",
      "54\n",
      "56\n",
      "58\n",
      "60\n",
      "62\n",
      "64\n",
      "66\n",
      "68\n",
      "70\n",
      "72\n",
      "74\n",
      "76\n",
      "78\n",
      "80\n",
      "82\n",
      "84\n",
      "86\n",
      "88\n",
      "90\n",
      "92\n",
      "94\n",
      "96\n",
      "98\n",
      "100\n"
     ]
    }
   ],
   "source": [
    "# Create a while loop that will count by 2's starting with 0 and ending at 100. \n",
    "# Follow each number with a new line\n",
    "\n",
    "the_list = list(range(0, 101, 2))\n",
    "\n",
    "count = 0\n",
    "while count < len(the_list) - 1:\n",
    "    \n",
    "    count = count + 1\n",
    "    print(the_list[count])    "
   ]
  },
  {
   "cell_type": "code",
   "execution_count": 39,
   "id": "982b51c2",
   "metadata": {},
   "outputs": [
    {
     "name": "stdout",
     "output_type": "stream",
     "text": [
      "2\n",
      "4\n",
      "16\n",
      "256\n",
      "65536\n"
     ]
    }
   ],
   "source": [
    "# Create a while loop that starts at 2, and displays the number squared on each line while the \n",
    "# number is less than 1,000,000. Output should equal:\n",
    "the_number = 2\n",
    "\n",
    "while the_number < 1000000:\n",
    "    print(the_number)\n",
    "    the_number = the_number * the_number\n",
    "    \n",
    "    \n"
   ]
  },
  {
   "cell_type": "code",
   "execution_count": 43,
   "id": "705bf10f",
   "metadata": {},
   "outputs": [
    {
     "name": "stdout",
     "output_type": "stream",
     "text": [
      "100\n",
      "95\n",
      "90\n",
      "85\n",
      "80\n",
      "75\n",
      "70\n",
      "65\n",
      "60\n",
      "55\n",
      "50\n",
      "45\n",
      "40\n",
      "35\n",
      "30\n",
      "25\n",
      "20\n",
      "15\n",
      "10\n",
      "5\n"
     ]
    }
   ],
   "source": [
    "# Write a while loop that uses print to create the output shown below.\n",
    "the_list = list(range(100, 0, -5))\n",
    "for i in the_list:\n",
    "    print(i)\n",
    "\n"
   ]
  },
  {
   "cell_type": "code",
   "execution_count": 51,
   "id": "a47d3521",
   "metadata": {},
   "outputs": [
    {
     "name": "stdout",
     "output_type": "stream",
     "text": [
      "enter a number7\n",
      "7 * 1 = 7\n",
      "7 * 2 = 14\n",
      "7 * 3 = 21\n",
      "7 * 4 = 28\n",
      "7 * 5 = 35\n",
      "7 * 6 = 42\n",
      "7 * 7 = 49\n",
      "7 * 8 = 56\n",
      "7 * 9 = 63\n",
      "7 * 10 = 70\n"
     ]
    }
   ],
   "source": [
    "# For Loops\n",
    "\n",
    "# Write some code using a for loop that prompts the user for a number, \n",
    "the_number = input('enter a number')\n",
    "# then shows a multiplication table up through 10 for that number.\n",
    "for i in range(1, 11):\n",
    "    print(the_number, '*', i, '=', int(the_number) * i)\n",
    "\n",
    "\n",
    "# For example, if the user enters 7, your program should output:"
   ]
  },
  {
   "cell_type": "code",
   "execution_count": 54,
   "id": "2265d529",
   "metadata": {},
   "outputs": [
    {
     "name": "stdout",
     "output_type": "stream",
     "text": [
      "1\n",
      "22\n",
      "333\n",
      "4444\n",
      "55555\n",
      "666666\n",
      "7777777\n",
      "88888888\n",
      "999999999\n"
     ]
    }
   ],
   "source": [
    "# Create a for loop that uses print to create the output shown below.\n",
    "the_list = ['1','2','3','4','5','6', '7','8','9']\n",
    "count = 1\n",
    "for i in (the_list):\n",
    "    print(i * count)\n",
    "    count = count+ 1"
   ]
  },
  {
   "cell_type": "code",
   "execution_count": 59,
   "id": "d8a914fc",
   "metadata": {
    "scrolled": true
   },
   "outputs": [
    {
     "name": "stdout",
     "output_type": "stream",
     "text": [
      "input a positive integer10\n",
      "10\n",
      "9\n",
      "8\n",
      "7\n",
      "6\n",
      "5\n",
      "4\n",
      "3\n",
      "2\n",
      "1\n"
     ]
    }
   ],
   "source": [
    "# break and continue\n",
    "\n",
    "# Write a program that prompts the user for a positive integer. \n",
    "the_positive_integer = input('input a positive integer')\n",
    "the_positive_integer = int(the_positive_integer)\n",
    "\n",
    "# Next write a loop that prints out the numbers from the number the user entered down to 1.\n",
    "for i in range(the_positive_integer, 0, -1):\n",
    "    print(i)"
   ]
  },
  {
   "cell_type": "code",
   "execution_count": 61,
   "id": "9cbd312f",
   "metadata": {},
   "outputs": [
    {
     "name": "stdout",
     "output_type": "stream",
     "text": [
      "enter a positive integer10\n",
      "0\n",
      "1\n",
      "2\n",
      "3\n",
      "4\n",
      "5\n",
      "6\n",
      "7\n",
      "8\n",
      "9\n",
      "10\n"
     ]
    }
   ],
   "source": [
    "# The input function can be used to prompt for input and use that input in your python code. \n",
    "\n",
    "# Prompt the user to enter a positive number and write a loop that counts from 0 to that number. \n",
    "positive_int_2 = input('enter a positive integer')\n",
    "positive_int_2 = int(positive_int_2)\n",
    "for i in range(0, positive_int_2 + 1):\n",
    "    print(i)\n",
    "# (Hints: note that the input function returns a string, so you'll need to convert this to a numeric type.)"
   ]
  },
  {
   "cell_type": "code",
   "execution_count": 73,
   "id": "0af02af9",
   "metadata": {},
   "outputs": [
    {
     "name": "stdout",
     "output_type": "stream",
     "text": [
      "enter a number between 1 and 50: 27\n",
      "you entered a number between 1 and 50\n",
      "Here is an odd number:  1\n",
      "Here is an odd number:  3\n",
      "Here is an odd number:  5\n",
      "Here is an odd number:  7\n",
      "Here is an odd number:  9\n",
      "Here is an odd number:  11\n",
      "Here is an odd number:  13\n",
      "Here is an odd number:  15\n",
      "Here is an odd number:  17\n",
      "Here is an odd number:  19\n",
      "Here is an odd number:  21\n",
      "Here is an odd number:  23\n",
      "Here is an odd number:  25\n",
      "Yikes! Skipping number:  27\n",
      "Here is an odd number:  29\n",
      "Here is an odd number:  31\n",
      "Here is an odd number:  33\n",
      "Here is an odd number:  35\n",
      "Here is an odd number:  37\n",
      "Here is an odd number:  39\n",
      "Here is an odd number:  41\n",
      "Here is an odd number:  43\n",
      "Here is an odd number:  45\n",
      "Here is an odd number:  47\n",
      "Here is an odd number:  49\n"
     ]
    }
   ],
   "source": [
    "# Prompt the user for an odd number between 1 and 50. \n",
    "while True:\n",
    "    number_between_one_and_fifty = input('enter a number between 1 and 50: ')\n",
    "    if number_between_one_and_fifty.isdigit():\n",
    "        number_between_one_and_fifty = int(number_between_one_and_fifty)\n",
    "    else:\n",
    "        print('you did not enter a number between 1 and 50')\n",
    "        continue\n",
    "        \n",
    "    if number_between_one_and_fifty < 1 or number_between_one_and_fifty > 50:\n",
    "        print('you did not enter a number between 1 and 50')\n",
    "        continue\n",
    "    else:\n",
    "        print('you entered a number between 1 and 50')\n",
    "        for i in range(1, 50, 2):\n",
    "            if i != number_between_one_and_fifty:   \n",
    "                print('Here is an odd number: ',i)\n",
    "            elif i == number_between_one_and_fifty:\n",
    "                print('Yikes! Skipping number: ', number_between_one_and_fifty)\n",
    "        break\n",
    "                                         \n",
    "\n",
    "# Use a loop and a break statement to continue prompting the user if they enter invalid input. \n",
    "\n",
    "# (Hint: use the isdigit method on strings to determine this). \n",
    "# Use a loop and the continue statement to output all the odd numbers between 1 and 50, \n",
    "# except for the number the user entered."
   ]
  },
  {
   "cell_type": "code",
   "execution_count": 78,
   "id": "18b5bcc7",
   "metadata": {},
   "outputs": [
    {
     "name": "stdout",
     "output_type": "stream",
     "text": [
      "1\n",
      "2\n",
      "3\n",
      "the number =  3 Fizz\n",
      "4\n",
      "5\n",
      "the number =  5 Buzz\n",
      "6\n",
      "the number =  6 Fizz\n",
      "7\n",
      "8\n",
      "9\n",
      "the number =  9 Fizz\n",
      "10\n",
      "the number =  10 Buzz\n",
      "11\n",
      "12\n",
      "the number =  12 Fizz\n",
      "13\n",
      "14\n",
      "15\n",
      "the number =  15 FizzBuzz\n",
      "16\n",
      "17\n",
      "18\n",
      "the number =  18 Fizz\n",
      "19\n",
      "20\n",
      "the number =  20 Buzz\n",
      "21\n",
      "the number =  21 Fizz\n",
      "22\n",
      "23\n",
      "24\n",
      "the number =  24 Fizz\n",
      "25\n",
      "the number =  25 Buzz\n",
      "26\n",
      "27\n",
      "the number =  27 Fizz\n",
      "28\n",
      "29\n",
      "30\n",
      "the number =  30 FizzBuzz\n",
      "31\n",
      "32\n",
      "33\n",
      "the number =  33 Fizz\n",
      "34\n",
      "35\n",
      "the number =  35 Buzz\n",
      "36\n",
      "the number =  36 Fizz\n",
      "37\n",
      "38\n",
      "39\n",
      "the number =  39 Fizz\n",
      "40\n",
      "the number =  40 Buzz\n",
      "41\n",
      "42\n",
      "the number =  42 Fizz\n",
      "43\n",
      "44\n",
      "45\n",
      "the number =  45 FizzBuzz\n",
      "46\n",
      "47\n",
      "48\n",
      "the number =  48 Fizz\n",
      "49\n",
      "50\n",
      "the number =  50 Buzz\n",
      "51\n",
      "the number =  51 Fizz\n",
      "52\n",
      "53\n",
      "54\n",
      "the number =  54 Fizz\n",
      "55\n",
      "the number =  55 Buzz\n",
      "56\n",
      "57\n",
      "the number =  57 Fizz\n",
      "58\n",
      "59\n",
      "60\n",
      "the number =  60 FizzBuzz\n",
      "61\n",
      "62\n",
      "63\n",
      "the number =  63 Fizz\n",
      "64\n",
      "65\n",
      "the number =  65 Buzz\n",
      "66\n",
      "the number =  66 Fizz\n",
      "67\n",
      "68\n",
      "69\n",
      "the number =  69 Fizz\n",
      "70\n",
      "the number =  70 Buzz\n",
      "71\n",
      "72\n",
      "the number =  72 Fizz\n",
      "73\n",
      "74\n",
      "75\n",
      "the number =  75 FizzBuzz\n",
      "76\n",
      "77\n",
      "78\n",
      "the number =  78 Fizz\n",
      "79\n",
      "80\n",
      "the number =  80 Buzz\n",
      "81\n",
      "the number =  81 Fizz\n",
      "82\n",
      "83\n",
      "84\n",
      "the number =  84 Fizz\n",
      "85\n",
      "the number =  85 Buzz\n",
      "86\n",
      "87\n",
      "the number =  87 Fizz\n",
      "88\n",
      "89\n",
      "90\n",
      "the number =  90 FizzBuzz\n",
      "91\n",
      "92\n",
      "93\n",
      "the number =  93 Fizz\n",
      "94\n",
      "95\n",
      "the number =  95 Buzz\n",
      "96\n",
      "the number =  96 Fizz\n",
      "97\n",
      "98\n",
      "99\n",
      "the number =  99 Fizz\n"
     ]
    }
   ],
   "source": [
    "# Fizzbuzz\n",
    "\n",
    "# One of the most common interview questions for entry-level programmers is the FizzBuzz test. \n",
    "# Developed by Imran Ghory, the test is designed to test basic looping and conditional logic skills.\n",
    "\n",
    "# Write a program that prints the numbers from 1 to 100.\n",
    "for i in range(1, 100):\n",
    "    print(i)\n",
    "    if i % 3 == 0 and i % 5 == 0:\n",
    "        print('the number = ', i, 'FizzBuzz')\n",
    "    elif i % 3 == 0:\n",
    "        print('the number = ', i, 'Fizz')\n",
    "    elif i % 5 == 0:\n",
    "        print('the number = ', i, 'Buzz')\n",
    "# For multiples of three print \"Fizz\" instead of the number\n",
    "# For the multiples of five print \"Buzz\".\n",
    "# For numbers which are multiples of both three and five print \"FizzBuzz\".\n"
   ]
  },
  {
   "cell_type": "code",
   "execution_count": 102,
   "id": "0de4f1a0",
   "metadata": {},
   "outputs": [
    {
     "name": "stdout",
     "output_type": "stream",
     "text": [
      "What number would you like to go up to?5\n",
      "Here is your table!\n",
      "number | squared | cubed\n",
      "------ | ------- | -----\n",
      "0      | 0  \t | 0\n",
      "1      | 1  \t | 1\n",
      "2      | 4  \t | 8\n",
      "3      | 9  \t | 27\n",
      "4      | 16  \t | 64\n",
      "5      | 25  \t | 125\n"
     ]
    }
   ],
   "source": [
    "# Display a table of powers.\n",
    "\n",
    "# Prompt the user to enter an integer\n",
    "while True:\n",
    "    the_integer = input('What number would you like to go up to?')\n",
    "    if the_integer.isdigit():\n",
    "        the_integer = int(the_integer)\n",
    "    else:\n",
    "        print('please enter an integer')\n",
    "        continue;\n",
    "    \n",
    "        \n",
    "    print('Here is your table!')\n",
    "    print('number | squared | cubed'\n",
    "         '\\n------ | ------- | -----')\n",
    "    for i in range(the_integer+1):\n",
    "        print(i, '     |', i * i,' \\t |', i*i*i)\n",
    "    break\n",
    "# Display a table of squares and cubes from 1 to the value entered\n",
    "# Ask if the user wants to continue\n",
    "# Assume that the user will enter valid data\n",
    "# Only continue if the user agrees to"
   ]
  },
  {
   "cell_type": "code",
   "execution_count": 115,
   "id": "3be52883",
   "metadata": {},
   "outputs": [
    {
     "name": "stdout",
     "output_type": "stream",
     "text": [
      "enter a grade between 0 and 100: 80\n",
      "B\n"
     ]
    }
   ],
   "source": [
    "# Convert given number grades into letter grades.\n",
    "\n",
    "# Prompt the user for a numerical grade from 0 to 100\n",
    "the_numerical_grade = input('enter a grade between 0 and 100: ')\n",
    "the_numerical_grade = int(the_numerical_grade)\n",
    "# Display the corresponding letter grade\n",
    "if the_numerical_grade <= 100 and the_numerical_grade >= 99:\n",
    "    print('A+')\n",
    "if the_numerical_grade <= 98 and the_numerical_grade >= 88:\n",
    "    print('A')\n",
    "    \n",
    "elif the_numerical_grade <= 87 and the_numerical_grade >= 86:\n",
    "    print('B+')\n",
    "elif the_numerical_grade <= 85 and the_numerical_grade >= 80:\n",
    "    print('B')\n",
    "\n",
    "elif the_numerical_grade <= 79 and the_numerical_grade >= 79:\n",
    "    print('C+')\n",
    "elif the_numerical_grade <= 77 and the_numerical_grade >= 67:\n",
    "    print('C')\n",
    "\n",
    "elif the_numerical_grade <= 66 and the_numerical_grade >= 65:\n",
    "    print('D+')\n",
    "elif the_numerical_grade <= 64 and the_numerical_grade >= 60:\n",
    "    print('D')\n",
    "\n",
    "elif the_numerical_grade <= 59 and the_numerical_grade >= 58:\n",
    "    print('F+')\n",
    "elif the_numerical_grade <= 57 and the_numerical_grade >= 0:\n",
    "    print('F')\n",
    "# Prompt the user to continue\n",
    "# Assume that the user will enter valid integers for the grades\n",
    "# The application should only continue if the user agrees to\n",
    "# Grade Ranges:\n",
    "\n",
    "# A : 100 - 88\n",
    "# B : 87 - 80\n",
    "# C : 79 - 67\n",
    "# D : 66 - 60\n",
    "# F : 59 - 0\n",
    "# Bonus: Edit your grade ranges to include pluses and minuses (ex: 99-100 = A+).\n",
    "\n"
   ]
  },
  {
   "cell_type": "code",
   "execution_count": 164,
   "id": "41aac568",
   "metadata": {},
   "outputs": [
    {
     "name": "stdout",
     "output_type": "stream",
     "text": [
      "48_Laws_of_power \t Robert_Greene \t personal_development\n",
      "33_strategies_of_war \t Robert_Greene \t personal_development\n",
      "think_and_grow_rich \t Napolean_Hill \t personal_development\n",
      "the_3_percent_man \t Corey_Wayne \t personal_development\n",
      "sun_tzu \t sun_tzu \t treatise\n",
      "the-genres = [personal_development, treatise]\n",
      "enter a genre that you want to viewpersonal_development\n",
      "48_Laws_of_power \t Robert_Greene \t personal_development\n",
      "33_strategies_of_war \t Robert_Greene \t personal_development\n",
      "think_and_grow_rich \t Napolean_Hill \t personal_development\n",
      "the_3_percent_man \t Corey_Wayne \t personal_development\n"
     ]
    }
   ],
   "source": [
    "# Create a list of dictionaries where each dictionary represents a book that you have read. \n",
    "the_list_of_dictionaries = [\n",
    "{'title': \"48_Laws_of_power\", 'author': 'Robert_Greene', 'genre':'personal_development'},\n",
    "    \n",
    "{'title': \"33_strategies_of_war\", 'author': 'Robert_Greene', 'genre':'personal_development'},\n",
    "    \n",
    "{'title': \"think_and_grow_rich\", 'author': 'Napolean_Hill', 'genre':'personal_development'},\n",
    "    \n",
    "{'title': \"the_3_percent_man\", 'author': 'Corey_Wayne', 'genre':'personal_development'},\n",
    "\n",
    "{'title': \"sun_tzu\", 'author': 'sun_tzu', 'genre':'treatise'},\n",
    "]\n",
    "\n",
    "# Each dictionary in the list should have the keys title, author, and genre. Loop through \n",
    "\n",
    "# the list and print out information about each book.\n",
    "\n",
    "for i in range(len(the_list_of_dictionaries)):\n",
    "    the_list_of_dictionaries[i]\n",
    "    print(the_list_of_dictionaries[i].get('title'), '\\t',\n",
    "          the_list_of_dictionaries[i].get('author'), '\\t',\n",
    "          the_list_of_dictionaries[i].get('genre'))\n",
    "\n",
    "\n",
    "# Prompt the user to enter a genre, then loop through your books \n",
    "\n",
    "\n",
    "print('the-genres = [personal_development, treatise]')\n",
    "the_genre_entered = input('enter a genre that you want to view')\n",
    "\n",
    "for j in range(len(the_list_of_dictionaries)):\n",
    "    \n",
    "    \n",
    "    if the_list_of_dictionaries[j].get('genre') == the_genre_entered:\n",
    "         print(the_list_of_dictionaries[j].get('title'), '\\t',\n",
    "                the_list_of_dictionaries[j].get('author'), '\\t',\n",
    "                the_list_of_dictionaries[j].get('genre'))\n",
    "            \n",
    "    elif the_list_of_dictionaries[j].get('genre') == the_genre_entered:\n",
    "        print(the_list_of_dictionaries[j].get('title'), '\\t',\n",
    "              the_list_of_dictionaries[j].get('author'), '\\t',\n",
    "              the_list_of_dictionaries[j].get('genre'))\n",
    "    \n",
    "   \n",
    "## list and print out the titles of all the books in that genre.\n"
   ]
  },
  {
   "cell_type": "code",
   "execution_count": null,
   "id": "4e16a870",
   "metadata": {},
   "outputs": [],
   "source": []
  }
 ],
 "metadata": {
  "kernelspec": {
   "display_name": "Python 3 (ipykernel)",
   "language": "python",
   "name": "python3"
  },
  "language_info": {
   "codemirror_mode": {
    "name": "ipython",
    "version": 3
   },
   "file_extension": ".py",
   "mimetype": "text/x-python",
   "name": "python",
   "nbconvert_exporter": "python",
   "pygments_lexer": "ipython3",
   "version": "3.9.13"
  }
 },
 "nbformat": 4,
 "nbformat_minor": 5
}
